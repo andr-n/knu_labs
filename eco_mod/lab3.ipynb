{
 "cells": [
  {
   "cell_type": "code",
   "execution_count": 50,
   "metadata": {},
   "outputs": [],
   "source": [
    "import numpy as np\n",
    "import pandas as pd\n",
    "from scipy.misc import derivative\n",
    "from scipy.optimize import minimize, curve_fit\n",
    "import matplotlib.pyplot as plt\n",
    "from mpl_toolkits.mplot3d import Axes3D"
   ]
  },
  {
   "cell_type": "code",
   "execution_count": 51,
   "metadata": {},
   "outputs": [],
   "source": [
    "# plot configuration\n",
    "fig_size = plt.rcParams[\"figure.figsize\"]\n",
    "plt.rcParams[\"figure.figsize\"] = 8, 5"
   ]
  },
  {
   "cell_type": "markdown",
   "metadata": {},
   "source": [
    "# Part I"
   ]
  },
  {
   "cell_type": "code",
   "execution_count": 52,
   "metadata": {},
   "outputs": [],
   "source": [
    "N = 4\n",
    "INF = 10 ** 6\n",
    "I = 1001                # resources limit\n",
    "\n",
    "x0 = np.zeros(N)\n",
    "h0 = np.zeros(N)\n",
    "\n",
    "p = [20, 20, 20, 20]    # price vector"
   ]
  },
  {
   "cell_type": "markdown",
   "metadata": {},
   "source": [
    "### Utility function\n",
    "\n",
    "$ U(x) = (x_{1}-7)^{0.25}(x_{2}-17)^{0.09}x^{0.3}_{3}(x_{4}-2)^{0.2} $"
   ]
  },
  {
   "cell_type": "code",
   "execution_count": 53,
   "metadata": {},
   "outputs": [],
   "source": [
    "def U(x1, x2, x3, x4):\n",
    "    return (x1 - 7) ** 0.25 * (x2 - 17) ** 0.09 * x3 ** 0.3 * (x4 - 2) ** 0.2\n",
    "\n",
    "\n",
    "def partial_derivative(func, var=0, point=[]):\n",
    "    args = point[:]\n",
    "\n",
    "    def wraps(x):\n",
    "        args[var] = x\n",
    "        return func(*args)\n",
    "\n",
    "    return derivative(wraps, point[var], dx = 1e-6)"
   ]
  },
  {
   "cell_type": "markdown",
   "metadata": {},
   "source": [
    "## Marshall"
   ]
  },
  {
   "cell_type": "code",
   "execution_count": 54,
   "metadata": {},
   "outputs": [
    {
     "name": "stdout",
     "output_type": "stream",
     "text": [
      "Final Objective: 4.813392212581777\n",
      "\n",
      "Solution\n",
      "x1 = 14.155084396506945\n",
      "x2 = 19.57632094422738\n",
      "x3 = 8.592914468363793\n",
      "x4 = 7.725680190901886\n",
      "\n",
      "Lagrange multiplier\n",
      "L1 = 0.008409041640788928\n",
      "L2 = 0.00840744078800526\n",
      "L3 = 0.008402374818139435\n",
      "L4 = 0.008406674067984454\n"
     ]
    }
   ],
   "source": [
    "def objective_m(x):\n",
    "    return -U(x[0], x[1], x[2], x[3])\n",
    "\n",
    "\n",
    "def constraint1(x):\n",
    "    return I - x[0] * p[0] - x[1] * p[1] - x[2] * p[2] - x[3] * p[3]\n",
    "\n",
    "\n",
    "x0[0] = 9    # initial x-vector\n",
    "x0[1] = 20\n",
    "x0[2] = 9\n",
    "x0[3] = 10\n",
    "\n",
    "bnds = (\n",
    "    (7, INF),\n",
    "    (17, INF),\n",
    "    (0, INF),\n",
    "    (2, INF)\n",
    ")\n",
    "\n",
    "con1 = {'type': 'ineq', 'fun': constraint1}\n",
    "cons = ([con1])\n",
    "solution = minimize(objective_m, x0, method='SLSQP', bounds=bnds, constraints=cons)\n",
    "\n",
    "x = solution.x\n",
    "\n",
    "print('Final Objective: ' + str(-objective_m(x)))\n",
    "\n",
    "print('\\nSolution')\n",
    "for i in range(N):\n",
    "    print('x{} = {}'.format(i + 1, x[i]))\n",
    "    \n",
    "print(\"\\nLagrange multiplier\")\n",
    "L = [partial_derivative(U, i, x) / p[i] for i in range(N)]\n",
    "for i in range(N):\n",
    "    print('L{} = {}'.format(i + 1, L[i]))"
   ]
  },
  {
   "cell_type": "markdown",
   "metadata": {},
   "source": [
    "## Hiks"
   ]
  },
  {
   "cell_type": "code",
   "execution_count": 55,
   "metadata": {},
   "outputs": [
    {
     "name": "stdout",
     "output_type": "stream",
     "text": [
      "Final Objective: 41166.62683860023\n",
      "\n",
      "Solution\n",
      "h1 = 611.8566384737018\n",
      "h2 = 234.74952920994335\n",
      "h3 = 725.8345065912623\n",
      "h4 = 485.8906676551041\n",
      "U(h) = 200.00000000000225\n",
      "\n",
      "Lagrange multiplier\n",
      "L1 = 241.94265914293283\n",
      "L2 = 241.9439901104927\n",
      "L3 = 241.94486356591216\n",
      "L4 = 241.94536268612626\n"
     ]
    }
   ],
   "source": [
    "def objective_h(h):\n",
    "    return p[0] * h[0] + p[1] * h[1] + p[2] * h[2] + p[3] * h[3]\n",
    "\n",
    "\n",
    "def constraint1(h):\n",
    "    return U(h[0], h[1], h[2], h[3]) - 200\n",
    "\n",
    "\n",
    "h0[0] = 9    # initial h-vector\n",
    "h0[1] = 20\n",
    "h0[2] = 9\n",
    "h0[3] = 10\n",
    "\n",
    "bnds = (\n",
    "    (7, INF),\n",
    "    (17, INF),\n",
    "    (0, INF),\n",
    "    (2, INF)\n",
    ")\n",
    "\n",
    "con1 = {'type': 'ineq', 'fun': constraint1}\n",
    "cons = ([con1])\n",
    "solution = minimize(objective_h, h0, method='SLSQP', bounds=bnds, constraints=cons)\n",
    "\n",
    "h = solution.x\n",
    "\n",
    "print('Final Objective: ' + str(objective_h(h)))\n",
    "\n",
    "print('\\nSolution')\n",
    "for i in range(len(h)):\n",
    "    print('h{} = {}'.format(i + 1, h[i]))\n",
    "print('U(h) = {}'.format(U(h[0], h[1], h[2], h[3])))\n",
    "\n",
    "print(\"\\nLagrange multiplier\")\n",
    "L = [p[i] / partial_derivative(U, i, h) for i in range(N)]\n",
    "for i in range(N):\n",
    "    print('L{} = {}'.format(i + 1, L[i]))"
   ]
  },
  {
   "cell_type": "markdown",
   "metadata": {},
   "source": [
    "# Part II"
   ]
  },
  {
   "cell_type": "markdown",
   "metadata": {},
   "source": [
    "The volume of production capital (fixed assets) K and the volume of labor L, which are measured: <br>for K - in monetary or natural terms, <br>for L - in the number of workers, man-hours, man-days, etc."
   ]
  },
  {
   "cell_type": "markdown",
   "metadata": {},
   "source": [
    "### Uploading data"
   ]
  },
  {
   "cell_type": "code",
   "execution_count": 56,
   "metadata": {},
   "outputs": [
    {
     "data": {
      "text/html": [
       "<div>\n",
       "<style scoped>\n",
       "    .dataframe tbody tr th:only-of-type {\n",
       "        vertical-align: middle;\n",
       "    }\n",
       "\n",
       "    .dataframe tbody tr th {\n",
       "        vertical-align: top;\n",
       "    }\n",
       "\n",
       "    .dataframe thead th {\n",
       "        text-align: right;\n",
       "    }\n",
       "</style>\n",
       "<table border=\"1\" class=\"dataframe\">\n",
       "  <thead>\n",
       "    <tr style=\"text-align: right;\">\n",
       "      <th></th>\n",
       "      <th>K</th>\n",
       "      <th>L</th>\n",
       "      <th>F</th>\n",
       "    </tr>\n",
       "  </thead>\n",
       "  <tbody>\n",
       "    <tr>\n",
       "      <th>0</th>\n",
       "      <td>2660</td>\n",
       "      <td>10380</td>\n",
       "      <td>49420</td>\n",
       "    </tr>\n",
       "    <tr>\n",
       "      <th>1</th>\n",
       "      <td>2720</td>\n",
       "      <td>10210</td>\n",
       "      <td>45250</td>\n",
       "    </tr>\n",
       "    <tr>\n",
       "      <th>2</th>\n",
       "      <td>2740</td>\n",
       "      <td>10370</td>\n",
       "      <td>50050</td>\n",
       "    </tr>\n",
       "    <tr>\n",
       "      <th>3</th>\n",
       "      <td>2650</td>\n",
       "      <td>10500</td>\n",
       "      <td>50070</td>\n",
       "    </tr>\n",
       "    <tr>\n",
       "      <th>4</th>\n",
       "      <td>2320</td>\n",
       "      <td>9750</td>\n",
       "      <td>47320</td>\n",
       "    </tr>\n",
       "    <tr>\n",
       "      <th>5</th>\n",
       "      <td>2490</td>\n",
       "      <td>10100</td>\n",
       "      <td>47400</td>\n",
       "    </tr>\n",
       "    <tr>\n",
       "      <th>6</th>\n",
       "      <td>2770</td>\n",
       "      <td>10620</td>\n",
       "      <td>51400</td>\n",
       "    </tr>\n",
       "    <tr>\n",
       "      <th>7</th>\n",
       "      <td>2610</td>\n",
       "      <td>10380</td>\n",
       "      <td>45470</td>\n",
       "    </tr>\n",
       "    <tr>\n",
       "      <th>8</th>\n",
       "      <td>2800</td>\n",
       "      <td>9600</td>\n",
       "      <td>47530</td>\n",
       "    </tr>\n",
       "    <tr>\n",
       "      <th>9</th>\n",
       "      <td>2880</td>\n",
       "      <td>9570</td>\n",
       "      <td>47600</td>\n",
       "    </tr>\n",
       "  </tbody>\n",
       "</table>\n",
       "</div>"
      ],
      "text/plain": [
       "      K      L      F\n",
       "0  2660  10380  49420\n",
       "1  2720  10210  45250\n",
       "2  2740  10370  50050\n",
       "3  2650  10500  50070\n",
       "4  2320   9750  47320\n",
       "5  2490  10100  47400\n",
       "6  2770  10620  51400\n",
       "7  2610  10380  45470\n",
       "8  2800   9600  47530\n",
       "9  2880   9570  47600"
      ]
     },
     "execution_count": 56,
     "metadata": {},
     "output_type": "execute_result"
    }
   ],
   "source": [
    "data = pd.read_csv('lab3_data.csv')\n",
    "data"
   ]
  },
  {
   "cell_type": "code",
   "execution_count": 57,
   "metadata": {},
   "outputs": [],
   "source": [
    "K = data['K'].values\n",
    "L = data['L'].values\n",
    "F = data['F'].values"
   ]
  },
  {
   "cell_type": "markdown",
   "metadata": {},
   "source": [
    "## Production func., scales and elasticity"
   ]
  },
  {
   "cell_type": "code",
   "execution_count": 58,
   "metadata": {},
   "outputs": [
    {
     "name": "stdout",
     "output_type": "stream",
     "text": [
      "Production function F = 141.69191034852955 * K ^ 0.15111129031060572 * L ^ 0.5026447942457296\n",
      "Decreasing returns to scale\n",
      "Elasticity of substitution for Cobb–Douglas production function is const=1\n"
     ]
    }
   ],
   "source": [
    "p0 = [1, 1, 1]\n",
    "\n",
    "\n",
    "def cobb_douglas(x, a, b, c):\n",
    "    return a * (x[0] ** b) * (x[1] ** c)\n",
    "\n",
    "# def linear_approx(x, a, b, c):\n",
    "#    return a + x[0] * b + x[1] * c\n",
    "\n",
    "\n",
    "coeffs, _ = curve_fit(cobb_douglas, (K, L) , F, p0)\n",
    "\n",
    "print(\"Production function F = {} * K ^ {} * L ^ {}\".format(coeffs[0], coeffs[1], coeffs[2]))\n",
    "\n",
    "if abs(coeffs[1] + coeffs[2] - 1) < 1e-3:\n",
    "    print('Constant returns to scale')\n",
    "elif coeffs[1] + coeffs[2] > 1:\n",
    "    print('Increasing returns to scale')\n",
    "else:\n",
    "    print('Decreasing returns to scale')\n",
    "\n",
    "print('Elasticity of substitution for Cobb–Douglas production function is const=1')"
   ]
  },
  {
   "cell_type": "code",
   "execution_count": 59,
   "metadata": {},
   "outputs": [],
   "source": [
    "# for i in range(0, 9):\n",
    "#    print(abs(coeffs[0] * (K[i] ** coeffs[1]) * (L[i] ** coeffs[2]) - F[i]))"
   ]
  },
  {
   "cell_type": "markdown",
   "metadata": {},
   "source": [
    "### Visualization"
   ]
  },
  {
   "cell_type": "code",
   "execution_count": 60,
   "metadata": {},
   "outputs": [
    {
     "data": {
      "image/png": "[encoded data removed]",
      "text/plain": [
       "<matplotlib.figure.Figure at 0x140b43cf1d0>"
      ]
     },
     "metadata": {},
     "output_type": "display_data"
    }
   ],
   "source": [
    "def makeData():\n",
    "    x = np.arange(2320, 2880, 50)\n",
    "    y = np.arange(9600, 10620, 100)\n",
    "    xgrid, ygrid = np.meshgrid(x, y)\n",
    "    zgrid = 141.7 * np.power(xgrid, 0.15) * np.power(ygrid, 0.5)\n",
    "    return xgrid, ygrid, zgrid\n",
    "\n",
    "fig = plt.figure()\n",
    "ax = fig.add_subplot(111, projection='3d')\n",
    "\n",
    "x, y, z = makeData()\n",
    "ax.plot_wireframe(x, y, z)\n",
    "\n",
    "ax.scatter(K, L, F, color='r')\n",
    "\n",
    "ax.set_xlabel('K')\n",
    "ax.set_ylabel('L')\n",
    "ax.set_zlabel('F')\n",
    "\n",
    "plt.show()"
   ]
  },
  {
   "cell_type": "markdown",
   "metadata": {},
   "source": [
    "## Short-run & long-run profits"
   ]
  },
  {
   "cell_type": "code",
   "execution_count": 61,
   "metadata": {},
   "outputs": [
    {
     "name": "stdout",
     "output_type": "stream",
     "text": [
      "Solution\n",
      "x1 = 14240.574014870512\n",
      "x2 = 47367.09422920981\n",
      "Long run profit is 3262295.000619133\n",
      "\n",
      "Solution\n",
      "x1 = 2028.6739748934274\n",
      "x2 = 4569.954256679813\n",
      "Short run profit is 1507022.098817871\n"
     ]
    }
   ],
   "source": [
    "price = 70\n",
    "w = [100, 100]\n",
    "\n",
    "\n",
    "def pi(x):\n",
    "    return w[0] * x[0] + w[1] * x[1] - price * cobb_douglas(x, coeffs[0], coeffs[1], coeffs[2])\n",
    "\n",
    "def constraint1(x):  # sqrt(x[0] * x[0] + x[1] * x[1]) <= 5000\n",
    "    return 5000 - (x[0] * x[0] + x[1] * x[1]) ** 0.5\n",
    "\n",
    "\n",
    "bounds1 = (\n",
    "    (0, INF),\n",
    "    (0, INF)\n",
    ")\n",
    "\n",
    "long_solution = minimize(pi, [1, 1], method='SLSQP', bounds=bounds1, constraints=[])\n",
    "print('Solution')\n",
    "x = long_solution.x\n",
    "for i in range(len(x)):\n",
    "    print('x{} = {}'.format(i + 1, x[i]))\n",
    "print(\"Long run profit is\", -pi(long_solution.x))\n",
    "print()\n",
    "\n",
    "con1 = {'type': 'ineq', 'fun': constraint1}\n",
    "short_solution = minimize(pi, [1, 1], method='SLSQP', bounds=bounds1, constraints=[con1])\n",
    "print('Solution')\n",
    "x = short_solution.x\n",
    "for i in range(len(x)):\n",
    "    print('x{} = {}'.format(i + 1, x[i]))\n",
    "print(\"Short run profit is\", -pi(short_solution.x))"
   ]
  },
  {
   "cell_type": "markdown",
   "metadata": {},
   "source": [
    "## Monopoly profit/price (of resources) and the volume of production"
   ]
  },
  {
   "cell_type": "code",
   "execution_count": 62,
   "metadata": {},
   "outputs": [
    {
     "name": "stdout",
     "output_type": "stream",
     "text": [
      "Solution\n",
      "x1 = 1348.4460303761666\n",
      "x2 = 2472.639588094257\n",
      "Monopoly profit is 1230457.5236205063\n",
      "Monopoly price is 67.61760764442238\n",
      "Monopoly price of resources: K = 37.195611063165835, L = 66.542385583299\n",
      "Volume of production is 21372.378954681233\n"
     ]
    }
   ],
   "source": [
    "def price_func(x):\n",
    "    return -x / 660 + 6600/66\n",
    "\n",
    "\n",
    "def wL(x):\n",
    "    return 0.035 * x[1] - 20\n",
    "\n",
    "\n",
    "def wK(x):\n",
    "    return 0.035 * x[0] - 10\n",
    "\n",
    "\n",
    "def wM(x):\n",
    "    return (wK(x), wL(x))\n",
    "\n",
    "\n",
    "def monopoly_pi(x):\n",
    "    q = cobb_douglas(x, coeffs[0], coeffs[1], coeffs[2])\n",
    "    mw = wM(x)\n",
    "    return mw[0] * x[0] + mw[1] * x[1] - price_func(q) * q\n",
    "\n",
    "\n",
    "monopoly_solution = minimize(monopoly_pi, [1, 1], method='SLSQP', bounds=bounds1, constraints=[])\n",
    "print('Solution')\n",
    "x = monopoly_solution.x\n",
    "for i in range(len(x)):\n",
    "    print('x{} = {}'.format(i + 1, x[i]))\n",
    "print(\"Monopoly profit is\", -monopoly_pi(monopoly_solution.x))\n",
    "print(\"Monopoly price is\", price_func(cobb_douglas(monopoly_solution.x, coeffs[0], coeffs[1], coeffs[2])))\n",
    "print(\"Monopoly price of resources: K = {}, L = {}\".format(wK(monopoly_solution.x), wL(monopoly_solution.x)))\n",
    "print(\"Volume of production is\", cobb_douglas(monopoly_solution.x, coeffs[0], coeffs[1], coeffs[2]))"
   ]
  }
 ],
 "metadata": {
  "kernelspec": {
   "display_name": "Python 3",
   "language": "python",
   "name": "python3"
  },
  "language_info": {
   "codemirror_mode": {
    "name": "ipython",
    "version": 3
   },
   "file_extension": ".py",
   "mimetype": "text/x-python",
   "name": "python",
   "nbconvert_exporter": "python",
   "pygments_lexer": "ipython3",
   "version": "3.6.4"
  }
 },
 "nbformat": 4,
 "nbformat_minor": 2
}
