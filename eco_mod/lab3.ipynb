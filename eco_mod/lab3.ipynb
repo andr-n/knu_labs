{
 "cells": [
  {
   "cell_type": "code",
   "execution_count": 1,
   "metadata": {
    "collapsed": true
   },
   "outputs": [],
   "source": [
    "import numpy as np\n",
    "import pandas as pd\n",
    "from scipy.misc import derivative\n",
    "from scipy.optimize import minimize, curve_fit\n",
    "import matplotlib.pyplot as plt\n",
    "from mpl_toolkits.mplot3d import Axes3D"
   ]
  },
  {
   "cell_type": "code",
   "execution_count": 2,
   "metadata": {},
   "outputs": [],
   "source": [
    "N = 4\n",
    "INF = 10 ** 6\n",
    "I = 1000\n",
    "\n",
    "x0 = np.zeros(N)\n",
    "h0 = np.zeros(N)\n",
    "\n",
    "p = [20, 20, 20, 20] # initial points\n",
    "\n",
    "# plot configuration\n",
    "fig_size = plt.rcParams[\"figure.figsize\"]\n",
    "plt.rcParams[\"figure.figsize\"] = 8, 5"
   ]
  },
  {
   "cell_type": "markdown",
   "metadata": {},
   "source": [
    "# Part I\n",
    "\n",
    "### My function\n",
    "\n",
    "$ U(x) = (x_{1}-7)^{0.25}(x_{2}-17)^{0.09}x^{0.3}_{3}(x_{4}-2)^{0.2} $"
   ]
  },
  {
   "cell_type": "code",
   "execution_count": 3,
   "metadata": {
    "collapsed": true
   },
   "outputs": [],
   "source": [
    "def U(x1, x2, x3, x4):\n",
    "    return (x1 - 7) ** 0.25 * (x2 - 17) ** 0.09 * x3 ** 0.3 * (x4 - 2) ** 0.2\n",
    "\n",
    "\n",
    "def partial_derivative(func, var=0, point=[]):\n",
    "    args = point[:]\n",
    "\n",
    "    def wraps(x):\n",
    "        args[var] = x\n",
    "        return func(*args)\n",
    "\n",
    "    return derivative(wraps, point[var], dx = 1e-6)"
   ]
  },
  {
   "cell_type": "markdown",
   "metadata": {},
   "source": [
    "## Marshall"
   ]
  },
  {
   "cell_type": "code",
   "execution_count": 4,
   "metadata": {},
   "outputs": [
    {
     "name": "stdout",
     "output_type": "stream",
     "text": [
      "Final Objective: 4.80498489644\n",
      "\n",
      "Solution\n",
      "x1 = 14.140279462615863\n",
      "x2 = 19.570974676129996\n",
      "x3 = 8.575006773194632\n",
      "x4 = 7.713739088059505\n",
      "\n",
      "Lagrange multiplier\n",
      "L1 = 0.008411759155890763\n",
      "L2 = 0.008410208418574427\n",
      "L3 = 0.008405215323747939\n",
      "L4 = 0.008409528917674436\n"
     ]
    }
   ],
   "source": [
    "def objective_m(x):\n",
    "    return - U(x[0], x[1], x[2], x[3])\n",
    "\n",
    "\n",
    "def constraint1(x):\n",
    "    return I - x[0] * p[0] - x[1] * p[1] - x[2] * p[2] - x[3] * p[3]\n",
    "\n",
    "\n",
    "x0[0] = 9 # initial x-vector\n",
    "x0[1] = 20\n",
    "x0[2] = 9\n",
    "x0[3] = 10\n",
    "\n",
    "bnds = (\n",
    "    (7, INF),\n",
    "    (17, INF),\n",
    "    (0, INF),\n",
    "    (2, INF)\n",
    ")\n",
    "\n",
    "con1 = {'type': 'ineq', 'fun': constraint1}\n",
    "cons = ([con1])\n",
    "solution = minimize(objective_m, x0, method='SLSQP', bounds=bnds, constraints=cons)\n",
    "\n",
    "x = solution.x\n",
    "\n",
    "print('Final Objective: ' + str(-objective_m(x)))\n",
    "\n",
    "print('\\nSolution')\n",
    "for i in range(4):\n",
    "    print('x{} = {}'.format(i + 1, x[i]))\n",
    "    \n",
    "print(\"\\nLagrange multiplier\")\n",
    "L = [partial_derivative(U, i, x) / p[i] for i in range(4)]\n",
    "for i in range(4):\n",
    "    print('L{} = {}'.format(i + 1, L[i]))"
   ]
  },
  {
   "cell_type": "markdown",
   "metadata": {},
   "source": [
    "## Hiks"
   ]
  },
  {
   "cell_type": "code",
   "execution_count": 5,
   "metadata": {},
   "outputs": [
    {
     "name": "stdout",
     "output_type": "stream",
     "text": [
      "Final Objective: 41166.6268386\n",
      "\n",
      "Solution\n",
      "h1 = 611.8566384737018\n",
      "h2 = 234.74952920994335\n",
      "h3 = 725.8345065912623\n",
      "h4 = 485.8906676551041\n",
      "U(h) = 200.00000000000225\n",
      "\n",
      "Lagrange multiplier\n",
      "L1 = 241.94265914293283\n",
      "L2 = 241.9439901104927\n",
      "L3 = 241.94486356591216\n",
      "L4 = 241.94536268612626\n"
     ]
    }
   ],
   "source": [
    "def objective_h(h):\n",
    "    return p[0] * h[0] + p[1] * h[1] + p[2] * h[2] + p[3] * h[3]\n",
    "\n",
    "\n",
    "def constraint1(h):\n",
    "    return U(h[0], h[1], h[2], h[3]) - 200\n",
    "\n",
    "\n",
    "h0[0] = 9 # initial h-vector\n",
    "h0[1] = 20\n",
    "h0[2] = 9\n",
    "h0[3] = 10\n",
    "\n",
    "bnds = (\n",
    "    (7, INF),\n",
    "    (17, INF),\n",
    "    (0, INF),\n",
    "    (2, INF)\n",
    ")\n",
    "\n",
    "con1 = {'type': 'ineq', 'fun': constraint1}\n",
    "cons = ([con1])\n",
    "solution = minimize(objective_h, h0, method='SLSQP', bounds=bnds, constraints=cons)\n",
    "\n",
    "h = solution.x\n",
    "\n",
    "print('Final Objective: ' + str(objective_h(h)))\n",
    "\n",
    "print('\\nSolution')\n",
    "for i in range(len(h)):\n",
    "    print('h{} = {}'.format(i + 1, h[i]))\n",
    "print('U(h) = {}'.format(U(h[0], h[1], h[2], h[3])))\n",
    "\n",
    "print(\"\\nLagrange multiplier\")\n",
    "L = [p[i] / partial_derivative(U, i, h) for i in range(4)]\n",
    "for i in range(4):\n",
    "    print('L{} = {}'.format(i + 1, L[i]))"
   ]
  },
  {
   "cell_type": "markdown",
   "metadata": {},
   "source": [
    "# Part II\n",
    "\n",
    "The volume of production capital (fixed assets) K and the volume of labor L, which are measured: <br>for K - in monetary or natural terms, <br>for L - in the number of workers, man-hours, man-days, etc."
   ]
  },
  {
   "cell_type": "markdown",
   "metadata": {},
   "source": [
    "### Uploading data"
   ]
  },
  {
   "cell_type": "code",
   "execution_count": 6,
   "metadata": {},
   "outputs": [
    {
     "data": {
      "text/html": [
       "<div>\n",
       "<style scoped>\n",
       "    .dataframe tbody tr th:only-of-type {\n",
       "        vertical-align: middle;\n",
       "    }\n",
       "\n",
       "    .dataframe tbody tr th {\n",
       "        vertical-align: top;\n",
       "    }\n",
       "\n",
       "    .dataframe thead th {\n",
       "        text-align: right;\n",
       "    }\n",
       "</style>\n",
       "<table border=\"1\" class=\"dataframe\">\n",
       "  <thead>\n",
       "    <tr style=\"text-align: right;\">\n",
       "      <th></th>\n",
       "      <th>K</th>\n",
       "      <th>L</th>\n",
       "      <th>F</th>\n",
       "    </tr>\n",
       "  </thead>\n",
       "  <tbody>\n",
       "    <tr>\n",
       "      <th>0</th>\n",
       "      <td>2660</td>\n",
       "      <td>10380</td>\n",
       "      <td>49420</td>\n",
       "    </tr>\n",
       "    <tr>\n",
       "      <th>1</th>\n",
       "      <td>2720</td>\n",
       "      <td>10210</td>\n",
       "      <td>45250</td>\n",
       "    </tr>\n",
       "    <tr>\n",
       "      <th>2</th>\n",
       "      <td>2740</td>\n",
       "      <td>10370</td>\n",
       "      <td>50050</td>\n",
       "    </tr>\n",
       "    <tr>\n",
       "      <th>3</th>\n",
       "      <td>2650</td>\n",
       "      <td>10500</td>\n",
       "      <td>50070</td>\n",
       "    </tr>\n",
       "    <tr>\n",
       "      <th>4</th>\n",
       "      <td>2320</td>\n",
       "      <td>9750</td>\n",
       "      <td>47320</td>\n",
       "    </tr>\n",
       "    <tr>\n",
       "      <th>5</th>\n",
       "      <td>2490</td>\n",
       "      <td>10100</td>\n",
       "      <td>47400</td>\n",
       "    </tr>\n",
       "    <tr>\n",
       "      <th>6</th>\n",
       "      <td>2770</td>\n",
       "      <td>10620</td>\n",
       "      <td>51400</td>\n",
       "    </tr>\n",
       "    <tr>\n",
       "      <th>7</th>\n",
       "      <td>2610</td>\n",
       "      <td>10380</td>\n",
       "      <td>45470</td>\n",
       "    </tr>\n",
       "    <tr>\n",
       "      <th>8</th>\n",
       "      <td>2800</td>\n",
       "      <td>9600</td>\n",
       "      <td>47530</td>\n",
       "    </tr>\n",
       "    <tr>\n",
       "      <th>9</th>\n",
       "      <td>2880</td>\n",
       "      <td>9570</td>\n",
       "      <td>47600</td>\n",
       "    </tr>\n",
       "  </tbody>\n",
       "</table>\n",
       "</div>"
      ],
      "text/plain": [
       "      K      L      F\n",
       "0  2660  10380  49420\n",
       "1  2720  10210  45250\n",
       "2  2740  10370  50050\n",
       "3  2650  10500  50070\n",
       "4  2320   9750  47320\n",
       "5  2490  10100  47400\n",
       "6  2770  10620  51400\n",
       "7  2610  10380  45470\n",
       "8  2800   9600  47530\n",
       "9  2880   9570  47600"
      ]
     },
     "execution_count": 6,
     "metadata": {},
     "output_type": "execute_result"
    }
   ],
   "source": [
    "data = pd.read_csv('lab3_data.csv')\n",
    "data"
   ]
  },
  {
   "cell_type": "code",
   "execution_count": 7,
   "metadata": {
    "collapsed": true
   },
   "outputs": [],
   "source": [
    "K = data['K'].values\n",
    "L = data['L'].values\n",
    "F = data['F'].values"
   ]
  },
  {
   "cell_type": "markdown",
   "metadata": {},
   "source": [
    "## Production func., scales and elasticity"
   ]
  },
  {
   "cell_type": "code",
   "execution_count": 8,
   "metadata": {},
   "outputs": [
    {
     "name": "stdout",
     "output_type": "stream",
     "text": [
      "Production function F = 141.69191034852955 * K ^ 0.15111129031060572 * L ^ 0.5026447942457296\n",
      "Decreasing returns to scale\n",
      "Elasticity of substitution for Cobb–Douglas production function is const=1\n"
     ]
    }
   ],
   "source": [
    "def cobb_douglas(x, a, b, c):\n",
    "    return a * (x[0] ** b) * (x[1] ** c)\n",
    "\n",
    "#def linear_approx(x, a, b, c):\n",
    "#    return a + x[0] * b + x[1] * c\n",
    "\n",
    "\n",
    "p0 = [1, 1, 1]\n",
    "coeffs, _ = curve_fit(cobb_douglas, (K, L) , F, p0)\n",
    "\n",
    "print(\"Production function F = {} * K ^ {} * L ^ {}\".format(coeffs[0], coeffs[1], coeffs[2]))\n",
    "\n",
    "if abs(coeffs[1] + coeffs[2] - 1) < 1e-3:\n",
    "    print('Constant returns to scale')\n",
    "elif coeffs[1] + coeffs[2] > 1:\n",
    "    print('Increasing returns to scale')\n",
    "else:\n",
    "    print('Decreasing returns to scale')\n",
    "\n",
    "print('Elasticity of substitution for Cobb–Douglas production function is const=1')"
   ]
  },
  {
   "cell_type": "code",
   "execution_count": 9,
   "metadata": {},
   "outputs": [],
   "source": [
    "#for i in range(0, 9):\n",
    "#    print(abs(coeffs[0] * (K[i] ** coeffs[1]) * (L[i] ** coeffs[2]) - F[i]))"
   ]
  },
  {
   "cell_type": "markdown",
   "metadata": {},
   "source": [
    "### Visualization"
   ]
  },
  {
   "cell_type": "code",
   "execution_count": 10,
   "metadata": {},
   "outputs": [
    {
     "data": {
      "image/png": "[encoded data removed]",
      "text/plain": [
       "<matplotlib.figure.Figure at 0x23a19f1f588>"
      ]
     },
     "metadata": {},
     "output_type": "display_data"
    }
   ],
   "source": [
    "def makeData():\n",
    "    x = np.arange (2320, 2880, 50)\n",
    "    y = np.arange (9600, 10620, 100)\n",
    "    xgrid, ygrid = np.meshgrid(x, y)\n",
    "    zgrid = 141.7 * np.power(xgrid, 0.15) * np.power(ygrid, 0.5)\n",
    "    return xgrid, ygrid, zgrid\n",
    "\n",
    "fig = plt.figure()\n",
    "ax = fig.add_subplot(111, projection='3d')\n",
    "\n",
    "x, y, z = makeData()\n",
    "ax.plot_wireframe(x, y, z)\n",
    "\n",
    "ax.scatter(K, L, F, color='r')\n",
    "\n",
    "ax.set_xlabel('K')\n",
    "ax.set_ylabel('L')\n",
    "ax.set_zlabel('F')\n",
    "\n",
    "plt.show()"
   ]
  },
  {
   "cell_type": "markdown",
   "metadata": {},
   "source": [
    "## Short-run & long-run profits"
   ]
  },
  {
   "cell_type": "code",
   "execution_count": 11,
   "metadata": {},
   "outputs": [
    {
     "name": "stdout",
     "output_type": "stream",
     "text": [
      "Solution\n",
      "x1 = 14240.574014870512\n",
      "x2 = 47367.09422920981\n",
      "Long run profit is 3262295.00062\n",
      "\n",
      "Solution\n",
      "x1 = 2028.6739748934274\n",
      "x2 = 4569.954256679813\n",
      "Short run profit is 1507022.09882\n"
     ]
    }
   ],
   "source": [
    "price = 70\n",
    "w = [100, 100]\n",
    "\n",
    "\n",
    "def pi(x):\n",
    "    return w[0] * x[0] + w[1] * x[1] - price * cobb_douglas(x, coeffs[0], coeffs[1], coeffs[2])\n",
    "\n",
    "def constraint1(x):  # sqrt(x[0] * x[0] + x[1] * x[1]) <= 5000\n",
    "    return 5000 - (x[0] * x[0] + x[1] * x[1]) ** 0.5\n",
    "\n",
    "\n",
    "bounds1 = (\n",
    "    (0, INF),\n",
    "    (0, INF)\n",
    ")\n",
    "\n",
    "long_solution = minimize(pi, [1, 1], method='SLSQP', bounds=bounds1, constraints=[])\n",
    "print('Solution')\n",
    "x = long_solution.x\n",
    "for i in range(len(x)):\n",
    "    print('x{} = {}'.format(i + 1, x[i]))\n",
    "print(\"Long run profit is\", -pi(long_solution.x))\n",
    "print()\n",
    "\n",
    "con1 = {'type': 'ineq', 'fun': constraint1}\n",
    "short_solution = minimize(pi, [1, 1], method='SLSQP', bounds=bounds1, constraints=[con1])\n",
    "print('Solution')\n",
    "x = short_solution.x\n",
    "for i in range(len(x)):\n",
    "    print('x{} = {}'.format(i + 1, x[i]))\n",
    "print(\"Short run profit is\", -pi(short_solution.x))"
   ]
  },
  {
   "cell_type": "markdown",
   "metadata": {},
   "source": [
    "## Monopoly profit/price (of resources) and the volume of production"
   ]
  },
  {
   "cell_type": "code",
   "execution_count": 12,
   "metadata": {},
   "outputs": [
    {
     "name": "stdout",
     "output_type": "stream",
     "text": [
      "Solution\n",
      "x1 = 1819.053345464246\n",
      "x2 = 3336.1107202697835\n",
      "Monopoly profit is 1512419.97127\n",
      "Monopoly price is 68.8016982418\n",
      "Monopoly price of resources: K = 35.47633363660615, L = 63.402768006744594\n",
      "Volume of production is 25994.5904593\n"
     ]
    }
   ],
   "source": [
    "def price_func(x):\n",
    "    return -x / 830 + 8310/83\n",
    "\n",
    "\n",
    "def wL(x):\n",
    "    return 0.025 * x[1] - 20\n",
    "\n",
    "\n",
    "def wK(x):\n",
    "    return 0.025 * x[0] - 10\n",
    "\n",
    "\n",
    "def wM(x):\n",
    "    return (wK(x), wL(x))\n",
    "\n",
    "\n",
    "def monopoly_pi(x):\n",
    "    q = cobb_douglas(x, coeffs[0], coeffs[1], coeffs[2])\n",
    "    mw = wM(x)\n",
    "    return mw[0] * x[0] + mw[1] * x[1] - price_func(q) * q\n",
    "\n",
    "\n",
    "monopoly_solution = minimize(monopoly_pi, [1, 1], method='SLSQP', bounds=bounds1, constraints=[])\n",
    "print('Solution')\n",
    "x = monopoly_solution.x\n",
    "for i in range(len(x)):\n",
    "    print('x{} = {}'.format(i + 1, x[i]))\n",
    "print(\"Monopoly profit is\", -monopoly_pi(monopoly_solution.x))\n",
    "print(\"Monopoly price is\", price_func(cobb_douglas(monopoly_solution.x, coeffs[0], coeffs[1], coeffs[2])))\n",
    "print(\"Monopoly price of resources: K = {}, L = {}\".format(wK(monopoly_solution.x), wL(monopoly_solution.x)))\n",
    "print(\"Volume of production is\", cobb_douglas(monopoly_solution.x, coeffs[0], coeffs[1], coeffs[2]))"
   ]
  }
 ],
 "metadata": {
  "kernelspec": {
   "display_name": "Python 3",
   "language": "python",
   "name": "python3"
  },
  "language_info": {
   "codemirror_mode": {
    "name": "ipython",
    "version": 3
   },
   "file_extension": ".py",
   "mimetype": "text/x-python",
   "name": "python",
   "nbconvert_exporter": "python",
   "pygments_lexer": "ipython3",
   "version": "3.5.3"
  }
 },
 "nbformat": 4,
 "nbformat_minor": 2
}
