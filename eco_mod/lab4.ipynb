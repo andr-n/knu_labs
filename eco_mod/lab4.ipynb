{
 "cells": [
  {
   "cell_type": "code",
   "execution_count": 1,
   "metadata": {},
   "outputs": [],
   "source": [
    "from scipy.integrate import ode\n",
    "import matplotlib.pyplot as plt"
   ]
  },
  {
   "cell_type": "markdown",
   "metadata": {},
   "source": [
    "# Part I"
   ]
  },
  {
   "cell_type": "markdown",
   "metadata": {},
   "source": [
    "### Population growth func.\n",
    "\n",
    "$ \\frac{\\partial N}{\\partial t} = \\beta \\frac{N^{2}}{1+N} - \\delta N  - \\rho N^{2}$"
   ]
  },
  {
   "cell_type": "code",
   "execution_count": 2,
   "metadata": {},
   "outputs": [],
   "source": [
    "birth_rate = 78\n",
    "death_rate = 48\n",
    "intraspecific_competition = 2\n",
    "\n",
    "params = [birth_rate, death_rate, intraspecific_competition]"
   ]
  },
  {
   "cell_type": "code",
   "execution_count": 3,
   "metadata": {},
   "outputs": [
    {
     "name": "stdout",
     "output_type": "stream",
     "text": [
      "Lower bound: 2.0\n",
      "Upper bound: 12.0\n"
     ]
    },
    {
     "data": {
      "image/png": "[encoded data removed]",
      "text/plain": [
       "<matplotlib.figure.Figure at 0x18e4e958630>"
      ]
     },
     "metadata": {},
     "output_type": "display_data"
    }
   ],
   "source": [
    "def f(t, N, params):\n",
    "    return params[0] * (N ** 2) / (N + 1) - params[1] * N - params[2] * (N ** 2)\n",
    "\n",
    "\n",
    "def solve(N0, t0=0, t1=1, h=0.05):\n",
    "    r = ode(f).set_integrator('dopri5')\n",
    "    r.set_initial_value(N0, t0).set_f_params(params)\n",
    "\n",
    "    N = [N0]\n",
    "    t = [t0]\n",
    "\n",
    "    while r.successful() and r.t < t1:\n",
    "        t.append(r.t + h)\n",
    "        N.append(r.integrate(r.t + h))\n",
    "    return N, t\n",
    "\n",
    "\n",
    "L = (-(((params[0] - params[1] - params[2]) ** 2 - 4 * params[1] * params[2]) ** 0.5) - params[0] + params[1] + params[2]) / (-2 * params[2])\n",
    "K = ((((params[0] - params[1] - params[2]) ** 2 - 4 * params[1] * params[2]) ** 0.5) - params[0] + params[1] + params[2]) / (-2 * params[2])\n",
    "\n",
    "if K < L:\n",
    "    L, K = K, L\n",
    "\n",
    "print(\"Lower bound: {}\".format(L))\n",
    "print(\"Upper bound: {}\".format(K))\n",
    "\n",
    "\n",
    "starts = [\n",
    "    [L / 3, \"L / 3\"],\n",
    "    [L / 1.5, \"L / 1.5\"],\n",
    "    [L, \"L\"],\n",
    "    [(K + L) / 4.0, \"(L + K) / 4\"],\n",
    "    [2.0 * (K + L) / 3.0, \"2(L + K) / 3\"],\n",
    "    [K, \"K\"],\n",
    "    [1.3 * K, \"1.3 * K\"]\n",
    "]\n",
    "\n",
    "t0 = 0\n",
    "t1 = 0.5\n",
    "\n",
    "for i in range(len(starts)):\n",
    "    plt.subplot(2, 4, i + 1)\n",
    "    N, t = solve(starts[i][0], t0)\n",
    "    lines = plt.plot(t, [K] * len(t), t, [L] * len(t), t, N)\n",
    "    plt.title('N(0) = ' + starts[i][1])\n",
    "    plt.axis([t0, t1, L - 5, K + 5])\n",
    "    plt.setp(lines[0], color='g', linewidth=2.5)\n",
    "    plt.setp(lines[1], color='r', linewidth=2.5)\n",
    "    plt.setp(lines[2], color='black', linewidth=1.0)\n",
    "\n",
    "plt.tight_layout()"
   ]
  },
  {
   "cell_type": "markdown",
   "metadata": {},
   "source": [
    "# Part II"
   ]
  },
  {
   "cell_type": "markdown",
   "metadata": {},
   "source": [
    "### Func. of fish population\n",
    "\n",
    "$\\dot{N} = 0.007 N^{2} - 1.4 N$ "
   ]
  },
  {
   "cell_type": "code",
   "execution_count": 4,
   "metadata": {},
   "outputs": [],
   "source": [
    "starts = [200, 150]\n",
    "t1 = 20"
   ]
  },
  {
   "cell_type": "code",
   "execution_count": 5,
   "metadata": {},
   "outputs": [
    {
     "data": {
      "image/png": "[encoded data removed]",
      "text/plain": [
       "<matplotlib.figure.Figure at 0x18e4e9582b0>"
      ]
     },
     "metadata": {},
     "output_type": "display_data"
    }
   ],
   "source": [
    "def f(t, N):\n",
    "    return 0.007 * N ** 2 - 1.4 * N\n",
    "\n",
    "\n",
    "def solve(N0, t0=0, t1=1, h=0.05):\n",
    "    r = ode(f).set_integrator('vode', method='bdf')\n",
    "    r.set_initial_value(N0, t0)\n",
    "\n",
    "    N = [N0]\n",
    "    t = [t0]\n",
    "\n",
    "    while r.successful() and r.t < t1:\n",
    "        t.append(r.t + h)\n",
    "        N.append(r.integrate(r.t + h))\n",
    "    return N, t\n",
    "\n",
    "for i in range(len(starts)):\n",
    "    plt.subplot(2, 1, i + 1)\n",
    "    N, t = solve(starts[i], t0=0, t1=t1, h=0.01)\n",
    "    plt.title(\"N(0) = \" + str(starts[i]))\n",
    "    plt.plot(t, N)\n",
    "\n",
    "plt.tight_layout()"
   ]
  }
 ],
 "metadata": {
  "kernelspec": {
   "display_name": "Python 3",
   "language": "python",
   "name": "python3"
  },
  "language_info": {
   "codemirror_mode": {
    "name": "ipython",
    "version": 3
   },
   "file_extension": ".py",
   "mimetype": "text/x-python",
   "name": "python",
   "nbconvert_exporter": "python",
   "pygments_lexer": "ipython3",
   "version": "3.6.4"
  }
 },
 "nbformat": 4,
 "nbformat_minor": 2
}
