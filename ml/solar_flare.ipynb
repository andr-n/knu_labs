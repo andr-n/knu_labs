{
 "cells": [
  {
   "cell_type": "markdown",
   "metadata": {},
   "source": [
    "\\begin{center} by Andrew Nikolaev and Christina Landvytovych \\end{center}"
   ]
  },
  {
   "cell_type": "markdown",
   "metadata": {
    "collapsed": true
   },
   "source": [
    "# Solar Flare Regression\n",
    "\n",
    "[Dataset](http://archive.ics.uci.edu/ml/datasets/Solar+Flare) for the project was taken from the great UCI Repository."
   ]
  },
  {
   "cell_type": "markdown",
   "metadata": {},
   "source": [
    "![dataset info from the site](images/cover.png)\n",
    "\n",
    "Will check this info later.\n",
    "\n",
    "\n",
    "## Objective\n",
    "\n",
    "_Wanna create a model which could fit the data about how many solar flares and what classes of them the sun was produced during the last 24 hours. And make some predictictions on the validation set._"
   ]
  },
  {
   "cell_type": "markdown",
   "metadata": {},
   "source": [
    "![that's how we see the solar flare](images/sun1.jpg)"
   ]
  },
  {
   "cell_type": "markdown",
   "metadata": {},
   "source": [
    "![that's how it's really looks like](images/3.png)"
   ]
  },
  {
   "cell_type": "code",
   "execution_count": 1,
   "metadata": {},
   "outputs": [],
   "source": [
    "# Load libraries\n",
    "import pandas\n",
    "from pandas.plotting import scatter_matrix\n",
    "import matplotlib.pyplot as plt\n",
    "from sklearn import model_selection\n",
    "from sklearn.metrics import classification_report\n",
    "from sklearn.metrics import confusion_matrix\n",
    "from sklearn.metrics import accuracy_score\n",
    "from sklearn.feature_extraction import DictVectorizer\n",
    "from sklearn.linear_model import LogisticRegression\n",
    "from sklearn.tree import DecisionTreeClassifier\n",
    "from sklearn.neighbors import KNeighborsClassifier\n",
    "from sklearn.discriminant_analysis import LinearDiscriminantAnalysis\n",
    "from sklearn.naive_bayes import GaussianNB\n",
    "from sklearn.svm import SVC\n",
    "import numpy as np\n",
    "import warnings"
   ]
  },
  {
   "cell_type": "code",
   "execution_count": 2,
   "metadata": {},
   "outputs": [],
   "source": [
    "# plot configuration\n",
    "plt.rcParams[\"figure.figsize\"] = 15, 5"
   ]
  },
  {
   "cell_type": "markdown",
   "metadata": {},
   "source": [
    "# Let's have a closer look at our Dataset\n",
    "\n",
    "\n",
    "## Attribute Information\n",
    "\n",
    "<pre>\n",
    "1. Code for class (modified Zurich class)  (A,B,C,D,E,F,H)\n",
    "2. Code for largest spot size              (X,R,S,A,H,K)\n",
    "3. Code for spot distribution              (X,O,I,C)\n",
    "4. Activity                                (1 = reduced, 2 = unchanged)\n",
    "5. Evolution                               (1 = decay, 2 = no growth, \n",
    "                                           3 = growth)\n",
    "6. Previous 24 hour flare activity code    (1 = nothing as big as an M1,\n",
    "                                           2 = one M1,\n",
    "                                           3 = more activity than one M1)\n",
    "7. Historically-complex                    (1 = Yes, 2 = No)\n",
    "8. Did region become historically complex  (1 = yes, 2 = no) \n",
    "  on this pass across the sun's disk\n",
    "9. Area                                    (1 = small, 2 = large)\n",
    "10. Area of the largest spot                (1 = <=5, 2 = >5)\n",
    "\n",
    "From all these predictors three classes of flares are predicted, which are \n",
    "represented in the last three columns.\n",
    "\n",
    "11. C-class flares production by this region    Number  \n",
    "  in the following 24 hours (common flares)\n",
    "12. M-class flares production by this region    Number\n",
    "  in the following 24 hours (moderate flares)\n",
    "13. X-class flares production by this region    Number\n",
    "  in the following 24 hours (severe flares)\n",
    "</pre>\n",
    "\n",
    "Missing values: None"
   ]
  },
  {
   "cell_type": "markdown",
   "metadata": {},
   "source": [
    "## Loading Dataset"
   ]
  },
  {
   "cell_type": "code",
   "execution_count": 3,
   "metadata": {},
   "outputs": [],
   "source": [
    "# Load dataset #1\n",
    "url = \"http://archive.ics.uci.edu/ml/machine-learning-databases/solar-flare/flare.data1\"\n",
    "names = ['Class code',\n",
    "         'Largest spot size code',\n",
    "         'Spot distribution code',\n",
    "         'Activity',\n",
    "         'Evolution',\n",
    "         'Flare activity',\n",
    "         'Historically-complex',\n",
    "         'Historically-complex region',\n",
    "         'Area',\n",
    "         'Largest spot area',\n",
    "         'C-class flares production',\n",
    "         'M-class flares production',\n",
    "         'X-class flares production']\n",
    "dataset1 = pandas.read_csv(url, names=names, sep='\\s+', skiprows=[0])"
   ]
  },
  {
   "cell_type": "code",
   "execution_count": 4,
   "metadata": {},
   "outputs": [],
   "source": [
    "# Load dataset #2\n",
    "url = \"http://archive.ics.uci.edu/ml/machine-learning-databases/solar-flare/flare.data2\"\n",
    "names = ['Class code',\n",
    "         'Largest spot size code',\n",
    "         'Spot distribution code', \n",
    "         'Activity',\n",
    "         'Evolution',\n",
    "         'Flare activity',\n",
    "         'Historically-complex',\n",
    "         'Historically-complex region',\n",
    "         'Area',\n",
    "         'Largest spot area',\n",
    "         'C-class flares production',\n",
    "         'M-class flares production',\n",
    "         'X-class flares production']\n",
    "dataset2 = pandas.read_csv(url, names=names, sep='\\s+', skiprows=[0])"
   ]
  },
  {
   "cell_type": "code",
   "execution_count": 5,
   "metadata": {},
   "outputs": [],
   "source": [
    "dataset = pandas.concat([dataset1, dataset2])"
   ]
  },
  {
   "cell_type": "code",
   "execution_count": 6,
   "metadata": {},
   "outputs": [
    {
     "data": {
      "text/html": [
       "<div>\n",
       "<style scoped>\n",
       "    .dataframe tbody tr th:only-of-type {\n",
       "        vertical-align: middle;\n",
       "    }\n",
       "\n",
       "    .dataframe tbody tr th {\n",
       "        vertical-align: top;\n",
       "    }\n",
       "\n",
       "    .dataframe thead th {\n",
       "        text-align: right;\n",
       "    }\n",
       "</style>\n",
       "<table border=\"1\" class=\"dataframe\">\n",
       "  <thead>\n",
       "    <tr style=\"text-align: right;\">\n",
       "      <th></th>\n",
       "      <th>Class code</th>\n",
       "      <th>Largest spot size code</th>\n",
       "      <th>Spot distribution code</th>\n",
       "      <th>Activity</th>\n",
       "      <th>Evolution</th>\n",
       "      <th>Flare activity</th>\n",
       "      <th>Historically-complex</th>\n",
       "      <th>Historically-complex region</th>\n",
       "      <th>Area</th>\n",
       "      <th>Largest spot area</th>\n",
       "      <th>C-class flares production</th>\n",
       "      <th>M-class flares production</th>\n",
       "      <th>X-class flares production</th>\n",
       "    </tr>\n",
       "  </thead>\n",
       "  <tbody>\n",
       "    <tr>\n",
       "      <th>0</th>\n",
       "      <td>C</td>\n",
       "      <td>S</td>\n",
       "      <td>O</td>\n",
       "      <td>1</td>\n",
       "      <td>2</td>\n",
       "      <td>1</td>\n",
       "      <td>1</td>\n",
       "      <td>2</td>\n",
       "      <td>1</td>\n",
       "      <td>2</td>\n",
       "      <td>0</td>\n",
       "      <td>0</td>\n",
       "      <td>0</td>\n",
       "    </tr>\n",
       "    <tr>\n",
       "      <th>1</th>\n",
       "      <td>D</td>\n",
       "      <td>S</td>\n",
       "      <td>O</td>\n",
       "      <td>1</td>\n",
       "      <td>3</td>\n",
       "      <td>1</td>\n",
       "      <td>1</td>\n",
       "      <td>2</td>\n",
       "      <td>1</td>\n",
       "      <td>2</td>\n",
       "      <td>0</td>\n",
       "      <td>0</td>\n",
       "      <td>0</td>\n",
       "    </tr>\n",
       "    <tr>\n",
       "      <th>2</th>\n",
       "      <td>C</td>\n",
       "      <td>S</td>\n",
       "      <td>O</td>\n",
       "      <td>1</td>\n",
       "      <td>3</td>\n",
       "      <td>1</td>\n",
       "      <td>1</td>\n",
       "      <td>2</td>\n",
       "      <td>1</td>\n",
       "      <td>1</td>\n",
       "      <td>0</td>\n",
       "      <td>0</td>\n",
       "      <td>0</td>\n",
       "    </tr>\n",
       "    <tr>\n",
       "      <th>3</th>\n",
       "      <td>D</td>\n",
       "      <td>S</td>\n",
       "      <td>O</td>\n",
       "      <td>1</td>\n",
       "      <td>3</td>\n",
       "      <td>1</td>\n",
       "      <td>1</td>\n",
       "      <td>2</td>\n",
       "      <td>1</td>\n",
       "      <td>2</td>\n",
       "      <td>0</td>\n",
       "      <td>0</td>\n",
       "      <td>0</td>\n",
       "    </tr>\n",
       "    <tr>\n",
       "      <th>4</th>\n",
       "      <td>D</td>\n",
       "      <td>A</td>\n",
       "      <td>O</td>\n",
       "      <td>1</td>\n",
       "      <td>3</td>\n",
       "      <td>1</td>\n",
       "      <td>1</td>\n",
       "      <td>2</td>\n",
       "      <td>1</td>\n",
       "      <td>2</td>\n",
       "      <td>0</td>\n",
       "      <td>0</td>\n",
       "      <td>0</td>\n",
       "    </tr>\n",
       "  </tbody>\n",
       "</table>\n",
       "</div>"
      ],
      "text/plain": [
       "  Class code Largest spot size code Spot distribution code  Activity  \\\n",
       "0          C                      S                      O         1   \n",
       "1          D                      S                      O         1   \n",
       "2          C                      S                      O         1   \n",
       "3          D                      S                      O         1   \n",
       "4          D                      A                      O         1   \n",
       "\n",
       "   Evolution  Flare activity  Historically-complex  \\\n",
       "0          2               1                     1   \n",
       "1          3               1                     1   \n",
       "2          3               1                     1   \n",
       "3          3               1                     1   \n",
       "4          3               1                     1   \n",
       "\n",
       "   Historically-complex region  Area  Largest spot area  \\\n",
       "0                            2     1                  2   \n",
       "1                            2     1                  2   \n",
       "2                            2     1                  1   \n",
       "3                            2     1                  2   \n",
       "4                            2     1                  2   \n",
       "\n",
       "   C-class flares production  M-class flares production  \\\n",
       "0                          0                          0   \n",
       "1                          0                          0   \n",
       "2                          0                          0   \n",
       "3                          0                          0   \n",
       "4                          0                          0   \n",
       "\n",
       "   X-class flares production  \n",
       "0                          0  \n",
       "1                          0  \n",
       "2                          0  \n",
       "3                          0  \n",
       "4                          0  "
      ]
     },
     "execution_count": 6,
     "metadata": {},
     "output_type": "execute_result"
    }
   ],
   "source": [
    "# head\n",
    "dataset.head(5)"
   ]
  },
  {
   "cell_type": "code",
   "execution_count": 7,
   "metadata": {},
   "outputs": [
    {
     "data": {
      "image/png": "[encoded data removed]",
      "text/plain": [
       "<matplotlib.figure.Figure at 0x2793dd869b0>"
      ]
     },
     "metadata": {},
     "output_type": "display_data"
    }
   ],
   "source": [
    "fig = plt.figure()\n",
    "\n",
    "fig.add_subplot(131)\n",
    "dataset['Class code'].value_counts().plot.pie()\n",
    "\n",
    "fig.add_subplot(132)\n",
    "dataset['Largest spot size code'].value_counts().plot.pie()\n",
    "\n",
    "fig.add_subplot(133)\n",
    "dataset['Spot distribution code'].value_counts().plot.pie()\n",
    "\n",
    "plt.show()"
   ]
  },
  {
   "cell_type": "markdown",
   "metadata": {},
   "source": [
    "# Data Preprocessing\n",
    "\n",
    "## Converting Categorical"
   ]
  },
  {
   "cell_type": "code",
   "execution_count": 8,
   "metadata": {},
   "outputs": [
    {
     "data": {
      "text/plain": [
       "Class code                     object\n",
       "Largest spot size code         object\n",
       "Spot distribution code         object\n",
       "Activity                        int64\n",
       "Evolution                       int64\n",
       "Flare activity                  int64\n",
       "Historically-complex            int64\n",
       "Historically-complex region     int64\n",
       "Area                            int64\n",
       "Largest spot area               int64\n",
       "C-class flares production       int64\n",
       "M-class flares production       int64\n",
       "X-class flares production       int64\n",
       "dtype: object"
      ]
     },
     "execution_count": 8,
     "metadata": {},
     "output_type": "execute_result"
    }
   ],
   "source": [
    "dataset.dtypes"
   ]
  },
  {
   "cell_type": "code",
   "execution_count": 9,
   "metadata": {},
   "outputs": [
    {
     "data": {
      "text/html": [
       "<div>\n",
       "<style scoped>\n",
       "    .dataframe tbody tr th:only-of-type {\n",
       "        vertical-align: middle;\n",
       "    }\n",
       "\n",
       "    .dataframe tbody tr th {\n",
       "        vertical-align: top;\n",
       "    }\n",
       "\n",
       "    .dataframe thead th {\n",
       "        text-align: right;\n",
       "    }\n",
       "</style>\n",
       "<table border=\"1\" class=\"dataframe\">\n",
       "  <thead>\n",
       "    <tr style=\"text-align: right;\">\n",
       "      <th></th>\n",
       "      <th>Class code</th>\n",
       "      <th>Largest spot size code</th>\n",
       "      <th>Spot distribution code</th>\n",
       "      <th>Activity</th>\n",
       "      <th>Evolution</th>\n",
       "      <th>Flare activity</th>\n",
       "      <th>Historically-complex</th>\n",
       "      <th>Historically-complex region</th>\n",
       "      <th>Area</th>\n",
       "      <th>Largest spot area</th>\n",
       "      <th>C-class flares production</th>\n",
       "      <th>M-class flares production</th>\n",
       "      <th>X-class flares production</th>\n",
       "    </tr>\n",
       "  </thead>\n",
       "  <tbody>\n",
       "    <tr>\n",
       "      <th>0</th>\n",
       "      <td>2</td>\n",
       "      <td>2</td>\n",
       "      <td>2</td>\n",
       "      <td>1</td>\n",
       "      <td>2</td>\n",
       "      <td>1</td>\n",
       "      <td>1</td>\n",
       "      <td>2</td>\n",
       "      <td>1</td>\n",
       "      <td>2</td>\n",
       "      <td>0</td>\n",
       "      <td>0</td>\n",
       "      <td>0</td>\n",
       "    </tr>\n",
       "    <tr>\n",
       "      <th>1</th>\n",
       "      <td>3</td>\n",
       "      <td>2</td>\n",
       "      <td>2</td>\n",
       "      <td>1</td>\n",
       "      <td>3</td>\n",
       "      <td>1</td>\n",
       "      <td>1</td>\n",
       "      <td>2</td>\n",
       "      <td>1</td>\n",
       "      <td>2</td>\n",
       "      <td>0</td>\n",
       "      <td>0</td>\n",
       "      <td>0</td>\n",
       "    </tr>\n",
       "    <tr>\n",
       "      <th>2</th>\n",
       "      <td>2</td>\n",
       "      <td>2</td>\n",
       "      <td>2</td>\n",
       "      <td>1</td>\n",
       "      <td>3</td>\n",
       "      <td>1</td>\n",
       "      <td>1</td>\n",
       "      <td>2</td>\n",
       "      <td>1</td>\n",
       "      <td>1</td>\n",
       "      <td>0</td>\n",
       "      <td>0</td>\n",
       "      <td>0</td>\n",
       "    </tr>\n",
       "    <tr>\n",
       "      <th>3</th>\n",
       "      <td>3</td>\n",
       "      <td>2</td>\n",
       "      <td>2</td>\n",
       "      <td>1</td>\n",
       "      <td>3</td>\n",
       "      <td>1</td>\n",
       "      <td>1</td>\n",
       "      <td>2</td>\n",
       "      <td>1</td>\n",
       "      <td>2</td>\n",
       "      <td>0</td>\n",
       "      <td>0</td>\n",
       "      <td>0</td>\n",
       "    </tr>\n",
       "    <tr>\n",
       "      <th>4</th>\n",
       "      <td>3</td>\n",
       "      <td>3</td>\n",
       "      <td>2</td>\n",
       "      <td>1</td>\n",
       "      <td>3</td>\n",
       "      <td>1</td>\n",
       "      <td>1</td>\n",
       "      <td>2</td>\n",
       "      <td>1</td>\n",
       "      <td>2</td>\n",
       "      <td>0</td>\n",
       "      <td>0</td>\n",
       "      <td>0</td>\n",
       "    </tr>\n",
       "  </tbody>\n",
       "</table>\n",
       "</div>"
      ],
      "text/plain": [
       "   Class code  Largest spot size code  Spot distribution code  Activity  \\\n",
       "0           2                       2                       2         1   \n",
       "1           3                       2                       2         1   \n",
       "2           2                       2                       2         1   \n",
       "3           3                       2                       2         1   \n",
       "4           3                       3                       2         1   \n",
       "\n",
       "   Evolution  Flare activity  Historically-complex  \\\n",
       "0          2               1                     1   \n",
       "1          3               1                     1   \n",
       "2          3               1                     1   \n",
       "3          3               1                     1   \n",
       "4          3               1                     1   \n",
       "\n",
       "   Historically-complex region  Area  Largest spot area  \\\n",
       "0                            2     1                  2   \n",
       "1                            2     1                  2   \n",
       "2                            2     1                  1   \n",
       "3                            2     1                  2   \n",
       "4                            2     1                  2   \n",
       "\n",
       "   C-class flares production  M-class flares production  \\\n",
       "0                          0                          0   \n",
       "1                          0                          0   \n",
       "2                          0                          0   \n",
       "3                          0                          0   \n",
       "4                          0                          0   \n",
       "\n",
       "   X-class flares production  \n",
       "0                          0  \n",
       "1                          0  \n",
       "2                          0  \n",
       "3                          0  \n",
       "4                          0  "
      ]
     },
     "execution_count": 9,
     "metadata": {},
     "output_type": "execute_result"
    }
   ],
   "source": [
    "codes = {\"Class code\":             {\"A\": 0, \"B\": 1, \"C\": 2, \"D\": 3, \"E\": 4, \"F\": 5, \"G\": 6, \"H\": 7},\n",
    "         \"Largest spot size code\": {\"X\": 0, \"R\": 1, \"S\": 2, \"A\": 3, \"H\": 4, \"K\": 5},\n",
    "         \"Spot distribution code\": {\"X\": 0, \"I\": 1, \"O\": 2, \"C\": 3}}\n",
    "dataset.replace(codes, inplace=True)\n",
    "dataset.head()"
   ]
  },
  {
   "cell_type": "code",
   "execution_count": 10,
   "metadata": {},
   "outputs": [
    {
     "data": {
      "text/plain": [
       "Class code                     int64\n",
       "Largest spot size code         int64\n",
       "Spot distribution code         int64\n",
       "Activity                       int64\n",
       "Evolution                      int64\n",
       "Flare activity                 int64\n",
       "Historically-complex           int64\n",
       "Historically-complex region    int64\n",
       "Area                           int64\n",
       "Largest spot area              int64\n",
       "C-class flares production      int64\n",
       "M-class flares production      int64\n",
       "X-class flares production      int64\n",
       "dtype: object"
      ]
     },
     "execution_count": 10,
     "metadata": {},
     "output_type": "execute_result"
    }
   ],
   "source": [
    "dataset.dtypes"
   ]
  },
  {
   "cell_type": "markdown",
   "metadata": {},
   "source": [
    "## Data Scaling\n",
    "\n",
    "It was not needed because all used algorithms already implemented it."
   ]
  },
  {
   "cell_type": "code",
   "execution_count": 11,
   "metadata": {},
   "outputs": [],
   "source": [
    "# dataset -= dataset.min()\n",
    "# dataset /= dataset.max()\n",
    "# dataset *= 100\n",
    "\n",
    "# dataset.head(5)"
   ]
  },
  {
   "cell_type": "markdown",
   "metadata": {},
   "source": [
    "# Summarizing the Dataset"
   ]
  },
  {
   "cell_type": "code",
   "execution_count": 12,
   "metadata": {},
   "outputs": [
    {
     "name": "stdout",
     "output_type": "stream",
     "text": [
      "(1389, 13)\n"
     ]
    }
   ],
   "source": [
    "# shape\n",
    "print(dataset.shape)"
   ]
  },
  {
   "cell_type": "code",
   "execution_count": 13,
   "metadata": {},
   "outputs": [
    {
     "name": "stdout",
     "output_type": "stream",
     "text": [
      "        Class code  Largest spot size code  Spot distribution code  \\\n",
      "count  1389.000000             1389.000000             1389.000000   \n",
      "mean      3.785457                1.970482                1.244060   \n",
      "std       2.235112                1.306653                0.912712   \n",
      "min       1.000000                0.000000                0.000000   \n",
      "25%       2.000000                1.000000                0.000000   \n",
      "50%       3.000000                2.000000                1.000000   \n",
      "75%       7.000000                3.000000                2.000000   \n",
      "max       7.000000                5.000000                3.000000   \n",
      "\n",
      "          Activity    Evolution  Flare activity  Historically-complex  \\\n",
      "count  1389.000000  1389.000000     1389.000000           1389.000000   \n",
      "mean      1.150468     2.421166        1.089993              1.395968   \n",
      "std       0.357658     0.617129        0.403292              0.489234   \n",
      "min       1.000000     1.000000        1.000000              1.000000   \n",
      "25%       1.000000     2.000000        1.000000              1.000000   \n",
      "50%       1.000000     2.000000        1.000000              1.000000   \n",
      "75%       1.000000     3.000000        1.000000              2.000000   \n",
      "max       2.000000     3.000000        3.000000              2.000000   \n",
      "\n",
      "       Historically-complex region         Area  Largest spot area  \\\n",
      "count                  1389.000000  1389.000000        1389.000000   \n",
      "mean                      1.892009     1.025918           1.175666   \n",
      "std                       0.310481     0.158948           0.380673   \n",
      "min                       1.000000     1.000000           1.000000   \n",
      "25%                       2.000000     1.000000           1.000000   \n",
      "50%                       2.000000     1.000000           1.000000   \n",
      "75%                       2.000000     1.000000           1.000000   \n",
      "max                       2.000000     2.000000           2.000000   \n",
      "\n",
      "       C-class flares production  M-class flares production  \\\n",
      "count                1389.000000                1389.000000   \n",
      "mean                    0.261339                   0.067675   \n",
      "std                     0.760201                   0.353695   \n",
      "min                     0.000000                   0.000000   \n",
      "25%                     0.000000                   0.000000   \n",
      "50%                     0.000000                   0.000000   \n",
      "75%                     0.000000                   0.000000   \n",
      "max                     8.000000                   5.000000   \n",
      "\n",
      "       X-class flares production  \n",
      "count                1389.000000  \n",
      "mean                    0.009359  \n",
      "std                     0.103534  \n",
      "min                     0.000000  \n",
      "25%                     0.000000  \n",
      "50%                     0.000000  \n",
      "75%                     0.000000  \n",
      "max                     2.000000  \n"
     ]
    }
   ],
   "source": [
    "# descriptions\n",
    "print(dataset.describe())"
   ]
  },
  {
   "cell_type": "markdown",
   "metadata": {},
   "source": [
    "## Data Visualization"
   ]
  },
  {
   "cell_type": "code",
   "execution_count": 14,
   "metadata": {},
   "outputs": [
    {
     "data": {
      "image/png": "[encoded data removed]",
      "text/plain": [
       "<matplotlib.figure.Figure at 0x2793dd869e8>"
      ]
     },
     "metadata": {},
     "output_type": "display_data"
    }
   ],
   "source": [
    "# box and whisker plots\n",
    "plt.rcParams[\"figure.figsize\"] = 10, 10\n",
    "dataset.plot(kind='box', subplots=True, layout=(4,4), sharex=False, sharey=False)\n",
    "plt.tight_layout()"
   ]
  },
  {
   "cell_type": "code",
   "execution_count": 15,
   "metadata": {},
   "outputs": [
    {
     "data": {
      "image/png": "[encoded data removed]",
      "text/plain": [
       "<matplotlib.figure.Figure at 0x2793ef9da58>"
      ]
     },
     "metadata": {},
     "output_type": "display_data"
    }
   ],
   "source": [
    "# histograms\n",
    "dataset.hist()\n",
    "plt.tight_layout()"
   ]
  },
  {
   "cell_type": "markdown",
   "metadata": {},
   "source": [
    "# Model Fitting\n",
    "\n",
    "## Splitting Dataset"
   ]
  },
  {
   "cell_type": "code",
   "execution_count": 16,
   "metadata": {},
   "outputs": [],
   "source": [
    "# Split-out validation dataset\n",
    "array = dataset.values\n",
    "X = array[:,0:10]\n",
    "Y = array[:,10:]\n",
    "validation_size = 0.20\n",
    "seed = 7\n",
    "X_train, X_validation, Y_train, Y_validation = model_selection.train_test_split(X, Y, test_size=validation_size, random_state=seed)\n",
    "\n",
    "# Test options and evaluation metric\n",
    "seed = 7\n",
    "scoring = 'accuracy'"
   ]
  },
  {
   "cell_type": "markdown",
   "metadata": {},
   "source": [
    "## Spot Check Algorithms"
   ]
  },
  {
   "cell_type": "code",
   "execution_count": 17,
   "metadata": {},
   "outputs": [
    {
     "data": {
      "text/html": [
       "<div>\n",
       "<style scoped>\n",
       "    .dataframe tbody tr th:only-of-type {\n",
       "        vertical-align: middle;\n",
       "    }\n",
       "\n",
       "    .dataframe tbody tr th {\n",
       "        vertical-align: top;\n",
       "    }\n",
       "\n",
       "    .dataframe thead th {\n",
       "        text-align: right;\n",
       "    }\n",
       "</style>\n",
       "<table border=\"1\" class=\"dataframe\">\n",
       "  <thead>\n",
       "    <tr style=\"text-align: right;\">\n",
       "      <th></th>\n",
       "      <th>LR</th>\n",
       "      <th>LDA</th>\n",
       "      <th>KNN</th>\n",
       "      <th>CART</th>\n",
       "      <th>NB</th>\n",
       "      <th>SVM</th>\n",
       "    </tr>\n",
       "  </thead>\n",
       "  <tbody>\n",
       "    <tr>\n",
       "      <th>C-class flares production</th>\n",
       "      <td>0.841562</td>\n",
       "      <td>0.811865</td>\n",
       "      <td>0.834371</td>\n",
       "      <td>0.808285</td>\n",
       "      <td>0.240315</td>\n",
       "      <td>0.845166</td>\n",
       "    </tr>\n",
       "    <tr>\n",
       "      <th>M-class flares production</th>\n",
       "      <td>0.953185</td>\n",
       "      <td>0.929770</td>\n",
       "      <td>0.949582</td>\n",
       "      <td>0.928885</td>\n",
       "      <td>0.720906</td>\n",
       "      <td>0.953185</td>\n",
       "    </tr>\n",
       "    <tr>\n",
       "      <th>X-class flares production</th>\n",
       "      <td>0.991892</td>\n",
       "      <td>0.971195</td>\n",
       "      <td>0.990090</td>\n",
       "      <td>0.988288</td>\n",
       "      <td>0.796533</td>\n",
       "      <td>0.991892</td>\n",
       "    </tr>\n",
       "  </tbody>\n",
       "</table>\n",
       "</div>"
      ],
      "text/plain": [
       "                                 LR       LDA       KNN      CART        NB  \\\n",
       "C-class flares production  0.841562  0.811865  0.834371  0.808285  0.240315   \n",
       "M-class flares production  0.953185  0.929770  0.949582  0.928885  0.720906   \n",
       "X-class flares production  0.991892  0.971195  0.990090  0.988288  0.796533   \n",
       "\n",
       "                                SVM  \n",
       "C-class flares production  0.845166  \n",
       "M-class flares production  0.953185  \n",
       "X-class flares production  0.991892  "
      ]
     },
     "execution_count": 17,
     "metadata": {},
     "output_type": "execute_result"
    }
   ],
   "source": [
    "warnings.filterwarnings('ignore')\n",
    "\n",
    "models = []\n",
    "models.append(('LR', LogisticRegression()))\n",
    "models.append(('LDA', LinearDiscriminantAnalysis()))\n",
    "models.append(('KNN', KNeighborsClassifier()))\n",
    "models.append(('CART', DecisionTreeClassifier()))\n",
    "models.append(('NB', GaussianNB()))\n",
    "models.append(('SVM', SVC()))\n",
    "\n",
    "# evaluate each model in turn\n",
    "data_mean = np.zeros(shape=(len(Y[0]), len(models)))\n",
    "data_std = np.zeros(shape=(len(Y[0]), len(models)))\n",
    "names = []\n",
    "results = []\n",
    "model_num = 0\n",
    "for name, model in models:\n",
    "    kfold = model_selection.KFold(n_splits=10, random_state=seed)\n",
    "    names.append(name)\n",
    "    for cl in range(len(Y[0])):\n",
    "        cv_results = model_selection.cross_val_score(model, X_train, Y_train[:,cl], cv=kfold, scoring=scoring)\n",
    "        results.append(cv_results)\n",
    "        data_mean[cl][model_num] = cv_results.mean()\n",
    "        data_std[cl][model_num] = cv_results.std()\n",
    "    model_num += 1\n",
    "\n",
    "data = data_mean\n",
    "columns = names\n",
    "index = ['C-class flares production', 'M-class flares production', 'X-class flares production']\n",
    "res_mean = pandas.DataFrame(data, index=index, columns=columns)\n",
    "\n",
    "data = data_std\n",
    "columns = names\n",
    "index = ['C-class flares production', 'M-class flares production', 'X-class flares production']\n",
    "res_std = pandas.DataFrame(data, index=index, columns=columns)\n",
    "\n",
    "res_mean"
   ]
  },
  {
   "cell_type": "code",
   "execution_count": 18,
   "metadata": {},
   "outputs": [
    {
     "data": {
      "text/html": [
       "<div>\n",
       "<style scoped>\n",
       "    .dataframe tbody tr th:only-of-type {\n",
       "        vertical-align: middle;\n",
       "    }\n",
       "\n",
       "    .dataframe tbody tr th {\n",
       "        vertical-align: top;\n",
       "    }\n",
       "\n",
       "    .dataframe thead th {\n",
       "        text-align: right;\n",
       "    }\n",
       "</style>\n",
       "<table border=\"1\" class=\"dataframe\">\n",
       "  <thead>\n",
       "    <tr style=\"text-align: right;\">\n",
       "      <th></th>\n",
       "      <th>LR</th>\n",
       "      <th>LDA</th>\n",
       "      <th>KNN</th>\n",
       "      <th>CART</th>\n",
       "      <th>NB</th>\n",
       "      <th>SVM</th>\n",
       "    </tr>\n",
       "  </thead>\n",
       "  <tbody>\n",
       "    <tr>\n",
       "      <th>C-class flares production</th>\n",
       "      <td>0.034788</td>\n",
       "      <td>0.028141</td>\n",
       "      <td>0.038523</td>\n",
       "      <td>0.045570</td>\n",
       "      <td>0.013212</td>\n",
       "      <td>0.035147</td>\n",
       "    </tr>\n",
       "    <tr>\n",
       "      <th>M-class flares production</th>\n",
       "      <td>0.016037</td>\n",
       "      <td>0.020115</td>\n",
       "      <td>0.015738</td>\n",
       "      <td>0.021512</td>\n",
       "      <td>0.131152</td>\n",
       "      <td>0.016037</td>\n",
       "    </tr>\n",
       "    <tr>\n",
       "      <th>X-class flares production</th>\n",
       "      <td>0.007483</td>\n",
       "      <td>0.014970</td>\n",
       "      <td>0.007483</td>\n",
       "      <td>0.005769</td>\n",
       "      <td>0.076979</td>\n",
       "      <td>0.007483</td>\n",
       "    </tr>\n",
       "  </tbody>\n",
       "</table>\n",
       "</div>"
      ],
      "text/plain": [
       "                                 LR       LDA       KNN      CART        NB  \\\n",
       "C-class flares production  0.034788  0.028141  0.038523  0.045570  0.013212   \n",
       "M-class flares production  0.016037  0.020115  0.015738  0.021512  0.131152   \n",
       "X-class flares production  0.007483  0.014970  0.007483  0.005769  0.076979   \n",
       "\n",
       "                                SVM  \n",
       "C-class flares production  0.035147  \n",
       "M-class flares production  0.016037  \n",
       "X-class flares production  0.007483  "
      ]
     },
     "execution_count": 18,
     "metadata": {},
     "output_type": "execute_result"
    }
   ],
   "source": [
    "res_std"
   ]
  },
  {
   "cell_type": "markdown",
   "metadata": {},
   "source": [
    "## Comparing Algorithms"
   ]
  },
  {
   "cell_type": "code",
   "execution_count": 19,
   "metadata": {},
   "outputs": [
    {
     "data": {
      "image/png": "[encoded data removed]",
      "text/plain": [
       "<matplotlib.figure.Figure at 0x27940161ac8>"
      ]
     },
     "metadata": {},
     "output_type": "display_data"
    }
   ],
   "source": [
    "plt.rcParams[\"figure.figsize\"] = 15, 5\n",
    "fig = plt.figure()\n",
    "# fig.suptitle('Algorithm Comparison')\n",
    "\n",
    "for i in range(len(Y[0])):\n",
    "    ax = fig.add_subplot('13' + str(i+1))\n",
    "    plt.boxplot(results[i::len(Y[0])])\n",
    "    ax.set_xticklabels(names)\n",
    "    plt.title(index[i])\n",
    "\n",
    "plt.tight_layout()"
   ]
  },
  {
   "cell_type": "markdown",
   "metadata": {},
   "source": [
    "# Making predictions on validation dataset\n",
    "For \"C-class flares production\"."
   ]
  },
  {
   "cell_type": "code",
   "execution_count": 20,
   "metadata": {},
   "outputs": [
    {
     "name": "stdout",
     "output_type": "stream",
     "text": [
      "Accurace score: 0.8345323741007195\n",
      "\n",
      "Confusion Matrix\n",
      "\n",
      "[[232   0   0   0   0   0]\n",
      " [ 34   0   0   0   0   0]\n",
      " [  7   0   0   0   0   0]\n",
      " [  2   0   0   0   0   0]\n",
      " [  2   0   0   0   0   0]\n",
      " [  1   0   0   0   0   0]]\n",
      "\n",
      "Precision/recall table\n",
      "\n",
      "             precision    recall  f1-score   support\n",
      "\n",
      "          0       0.83      1.00      0.91       232\n",
      "          1       0.00      0.00      0.00        34\n",
      "          2       0.00      0.00      0.00         7\n",
      "          3       0.00      0.00      0.00         2\n",
      "          4       0.00      0.00      0.00         2\n",
      "          5       0.00      0.00      0.00         1\n",
      "\n",
      "avg / total       0.70      0.83      0.76       278\n",
      "\n"
     ]
    }
   ],
   "source": [
    "svm = SVC()\n",
    "svm.fit(X_train, Y_train[:,0])\n",
    "predictions = svm.predict(X_validation)\n",
    "print(\"Accurace score:\", accuracy_score(Y_validation[:,0], predictions))\n",
    "print(\"\\nConfusion Matrix\\n\")\n",
    "print(confusion_matrix(Y_validation[:,0], predictions))\n",
    "print(\"\\nPrecision/recall table\\n\")\n",
    "print(classification_report(Y_validation[:,0], predictions))"
   ]
  },
  {
   "cell_type": "code",
   "execution_count": null,
   "metadata": {},
   "outputs": [],
   "source": []
  }
 ],
 "metadata": {
  "kernelspec": {
   "display_name": "Python 3",
   "language": "python",
   "name": "python3"
  },
  "language_info": {
   "codemirror_mode": {
    "name": "ipython",
    "version": 3
   },
   "file_extension": ".py",
   "mimetype": "text/x-python",
   "name": "python",
   "nbconvert_exporter": "python",
   "pygments_lexer": "ipython3",
   "version": "3.6.4"
  }
 },
 "nbformat": 4,
 "nbformat_minor": 1
}
