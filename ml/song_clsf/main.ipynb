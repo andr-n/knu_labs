{
 "cells": [
  {
   "cell_type": "markdown",
   "metadata": {},
   "source": [
    "# Song Genre Classification"
   ]
  },
  {
   "cell_type": "code",
   "execution_count": 1,
   "metadata": {},
   "outputs": [
    {
     "name": "stderr",
     "output_type": "stream",
     "text": [
      "/usr/local/lib/python3.6/dist-packages/h5py/__init__.py:36: FutureWarning: Conversion of the second argument of issubdtype from `float` to `np.floating` is deprecated. In future, it will be treated as `np.float64 == np.dtype(float).type`.\n",
      "  from ._conv import register_converters as _register_converters\n",
      "Using TensorFlow backend.\n"
     ]
    }
   ],
   "source": [
    "import pandas as pd\n",
    "import matplotlib.pyplot as plt\n",
    "from tensorflow import keras\n",
    "from keras.preprocessing.text import Tokenizer\n",
    "from keras.models import Sequential\n",
    "from keras import optimizers, utils\n",
    "from keras.layers import Dense,  Embedding, Conv1D, Flatten\n",
    "import numpy as np\n",
    "import os\n",
    "from sklearn import model_selection\n",
    "\n",
    "# plot configuration\n",
    "plt.rcParams[\"figure.figsize\"] = 5, 5"
   ]
  },
  {
   "cell_type": "code",
   "execution_count": 2,
   "metadata": {},
   "outputs": [
    {
     "data": {
      "text/html": [
       "<div>\n",
       "<style scoped>\n",
       "    .dataframe tbody tr th:only-of-type {\n",
       "        vertical-align: middle;\n",
       "    }\n",
       "\n",
       "    .dataframe tbody tr th {\n",
       "        vertical-align: top;\n",
       "    }\n",
       "\n",
       "    .dataframe thead th {\n",
       "        text-align: right;\n",
       "    }\n",
       "</style>\n",
       "<table border=\"1\" class=\"dataframe\">\n",
       "  <thead>\n",
       "    <tr style=\"text-align: right;\">\n",
       "      <th></th>\n",
       "      <th>index</th>\n",
       "      <th>song</th>\n",
       "      <th>year</th>\n",
       "      <th>artist</th>\n",
       "      <th>genre</th>\n",
       "      <th>lyrics</th>\n",
       "    </tr>\n",
       "  </thead>\n",
       "  <tbody>\n",
       "    <tr>\n",
       "      <th>0</th>\n",
       "      <td>0</td>\n",
       "      <td>ego-remix</td>\n",
       "      <td>2009</td>\n",
       "      <td>beyonce-knowles</td>\n",
       "      <td>Pop</td>\n",
       "      <td>Oh baby, how you doing?\\nYou know I'm gonna cu...</td>\n",
       "    </tr>\n",
       "    <tr>\n",
       "      <th>1</th>\n",
       "      <td>1</td>\n",
       "      <td>then-tell-me</td>\n",
       "      <td>2009</td>\n",
       "      <td>beyonce-knowles</td>\n",
       "      <td>Pop</td>\n",
       "      <td>playin' everything so easy,\\nit's like you see...</td>\n",
       "    </tr>\n",
       "    <tr>\n",
       "      <th>2</th>\n",
       "      <td>2</td>\n",
       "      <td>honesty</td>\n",
       "      <td>2009</td>\n",
       "      <td>beyonce-knowles</td>\n",
       "      <td>Pop</td>\n",
       "      <td>If you search\\nFor tenderness\\nIt isn't hard t...</td>\n",
       "    </tr>\n",
       "    <tr>\n",
       "      <th>3</th>\n",
       "      <td>3</td>\n",
       "      <td>you-are-my-rock</td>\n",
       "      <td>2009</td>\n",
       "      <td>beyonce-knowles</td>\n",
       "      <td>Pop</td>\n",
       "      <td>Oh oh oh I, oh oh oh I\\n[Verse 1:]\\nIf I wrote...</td>\n",
       "    </tr>\n",
       "    <tr>\n",
       "      <th>4</th>\n",
       "      <td>4</td>\n",
       "      <td>black-culture</td>\n",
       "      <td>2009</td>\n",
       "      <td>beyonce-knowles</td>\n",
       "      <td>Pop</td>\n",
       "      <td>Party the people, the people the party it's po...</td>\n",
       "    </tr>\n",
       "  </tbody>\n",
       "</table>\n",
       "</div>"
      ],
      "text/plain": [
       "  index             song  year           artist genre  \\\n",
       "0     0        ego-remix  2009  beyonce-knowles   Pop   \n",
       "1     1     then-tell-me  2009  beyonce-knowles   Pop   \n",
       "2     2          honesty  2009  beyonce-knowles   Pop   \n",
       "3     3  you-are-my-rock  2009  beyonce-knowles   Pop   \n",
       "4     4    black-culture  2009  beyonce-knowles   Pop   \n",
       "\n",
       "                                              lyrics  \n",
       "0  Oh baby, how you doing?\\nYou know I'm gonna cu...  \n",
       "1  playin' everything so easy,\\nit's like you see...  \n",
       "2  If you search\\nFor tenderness\\nIt isn't hard t...  \n",
       "3  Oh oh oh I, oh oh oh I\\n[Verse 1:]\\nIf I wrote...  \n",
       "4  Party the people, the people the party it's po...  "
      ]
     },
     "execution_count": 2,
     "metadata": {},
     "output_type": "execute_result"
    }
   ],
   "source": [
    "dataset = pd.read_csv(\"lyrics_demo.csv\", skip_blank_lines=True).dropna()\n",
    "\n",
    "dataset.head(5)\n"
   ]
  },
  {
   "cell_type": "markdown",
   "metadata": {},
   "source": [
    "### Data visualisation"
   ]
  },
  {
   "cell_type": "code",
   "execution_count": 3,
   "metadata": {},
   "outputs": [
    {
     "data": {
      "image/png": "[encoded data removed]",
      "text/plain": [
       "<matplotlib.figure.Figure at 0x7fe0f4c5e048>"
      ]
     },
     "metadata": {},
     "output_type": "display_data"
    }
   ],
   "source": [
    "dataset['genre'].value_counts().plot.pie()\n",
    "\n",
    "plt.show()"
   ]
  },
  {
   "cell_type": "code",
   "execution_count": 4,
   "metadata": {},
   "outputs": [
    {
     "data": {
      "text/plain": [
       "index     object\n",
       "song      object\n",
       "year      object\n",
       "artist    object\n",
       "genre     object\n",
       "lyrics    object\n",
       "dtype: object"
      ]
     },
     "execution_count": 4,
     "metadata": {},
     "output_type": "execute_result"
    }
   ],
   "source": [
    "dataset.dtypes"
   ]
  },
  {
   "cell_type": "code",
   "execution_count": 5,
   "metadata": {},
   "outputs": [
    {
     "data": {
      "text/plain": [
       "'Rock'"
      ]
     },
     "execution_count": 5,
     "metadata": {},
     "output_type": "execute_result"
    }
   ],
   "source": [
    "array = dataset.values\n",
    "X = array[:,5]\n",
    "Y = array[:,4]\n",
    "validation_size = 0.20\n",
    "seed = 7\n",
    "X_train, X_validation, Y_train, Y_validation = model_selection.train_test_split(X, Y, test_size=validation_size, random_state=seed)\n",
    "\n",
    "Y_train[4]"
   ]
  },
  {
   "cell_type": "code",
   "execution_count": 6,
   "metadata": {
    "scrolled": false
   },
   "outputs": [
    {
     "name": "stdout",
     "output_type": "stream",
     "text": [
      "WARNING:tensorflow:From /usr/local/lib/python3.6/dist-packages/keras/backend/tensorflow_backend.py:1205: calling reduce_prod (from tensorflow.python.ops.math_ops) with keep_dims is deprecated and will be removed in a future version.\n",
      "Instructions for updating:\n",
      "keep_dims is deprecated, use keepdims instead\n",
      "WARNING:tensorflow:From /usr/local/lib/python3.6/dist-packages/keras/backend/tensorflow_backend.py:2755: calling reduce_sum (from tensorflow.python.ops.math_ops) with keep_dims is deprecated and will be removed in a future version.\n",
      "Instructions for updating:\n",
      "keep_dims is deprecated, use keepdims instead\n",
      "WARNING:tensorflow:From /usr/local/lib/python3.6/dist-packages/keras/backend/tensorflow_backend.py:1290: calling reduce_mean (from tensorflow.python.ops.math_ops) with keep_dims is deprecated and will be removed in a future version.\n",
      "Instructions for updating:\n",
      "keep_dims is deprecated, use keepdims instead\n",
      "Epoch 1/2\n",
      "2217/2217 [==============================] - 66s - loss: 1.0668 - acc: 0.7046    \n",
      "Epoch 2/2\n",
      "2217/2217 [==============================] - 64s - loss: 0.5789 - acc: 0.7916    \n",
      "512/535 [===========================>..] - ETA: 0s\n",
      "acc: 79.63%\n"
     ]
    }
   ],
   "source": [
    "max_len = 512\n",
    "max_features = 6 * 10 ** 5\n",
    "num_of_categories = len(set(Y))\n",
    "\n",
    "\n",
    "def gen_model():\n",
    "    model = Sequential()\n",
    "    model.add(Embedding(max_features, 128, input_length=max_len))\n",
    "    model.add(Conv1D(filters=64, kernel_size=8, activation='relu'))\n",
    "    model.add(Flatten())\n",
    "    model.add(Dense(num_of_categories, activation='softmax'))\n",
    "    model.compile(loss='categorical_crossentropy', optimizer=optimizers.Adam(lr=0.001), metrics=['accuracy'])\n",
    "    return model\n",
    "\n",
    "\n",
    "def read_row(num):\n",
    "    text = ''\n",
    "\n",
    "    for line in open(path, \"r\"):\n",
    "        text += line\n",
    "\n",
    "    return text\n",
    "\n",
    "def prepare(texts, labels):\n",
    "    x = []\n",
    "    y = []\n",
    "    seq = tock.texts_to_sequences(texts)\n",
    "    for i in range(len(labels)):\n",
    "        j = 0\n",
    "        imprint = []\n",
    "        k = 0\n",
    "        while j < len(seq[i]):\n",
    "            imprint.append(seq[i][j])\n",
    "            k += 1\n",
    "            j += 1\n",
    "            if k >= max_len:\n",
    "                x.append(imprint)\n",
    "                y.append(labels[i])\n",
    "                imprint = []\n",
    "                k = 0\n",
    "\n",
    "    x = np.array(x)\n",
    "    y = utils.to_categorical(y, num_classes=num_of_categories)\n",
    "\n",
    "    return x, y\n",
    "\n",
    "\n",
    "def to_line(song):\n",
    "    res = ''\n",
    "    for line in song:\n",
    "        res += line\n",
    "    return res\n",
    "\n",
    "\n",
    "tock = Tokenizer(num_words=max_features)\n",
    "model = gen_model()\n",
    "\n",
    "\n",
    "''' UPLOADING TRAIN DATA '''\n",
    "\n",
    "songs = []\n",
    "genres = []\n",
    "G = list(set(Y))\n",
    "\n",
    "for i in range(X_train.size):\n",
    "    song_lyrics = X_train[i]\n",
    "    song_genre = Y_train[i]\n",
    "    song_genre = G.index(song_genre)\n",
    "    song_line = to_line(song_lyrics)\n",
    "    \n",
    "    songs.append(song_line)\n",
    "    genres.append(song_genre)\n",
    "\n",
    "tock.fit_on_texts(songs)\n",
    "x, y = prepare(songs, genres)\n",
    "model.fit(x, y, epochs=2, verbose=1)\n",
    "\n",
    "\n",
    "''' UPLOADING VALIDATION DATA '''\n",
    "\n",
    "songs = []\n",
    "genres = []\n",
    "\n",
    "for i in range(X_validation.size):\n",
    "    song_lyrics = X_validation[i]\n",
    "    song_genre = Y_validation[i]\n",
    "    song_genre = G.index(song_genre)\n",
    "    song_line = to_line(song_lyrics)\n",
    "    \n",
    "    songs.append(song_line)\n",
    "    genres.append(song_genre)\n",
    "\n",
    "x, y = prepare(songs, genres)\n",
    "scores = model.evaluate(x, y, verbose=1)\n",
    "print(\"\\n%s: %.2f%%\" % (model.metrics_names[1], scores[1] * 100))\n"
   ]
  },
  {
   "cell_type": "code",
   "execution_count": null,
   "metadata": {},
   "outputs": [],
   "source": []
  }
 ],
 "metadata": {
  "kernelspec": {
   "display_name": "Python 3",
   "language": "python",
   "name": "python3"
  },
  "language_info": {
   "codemirror_mode": {
    "name": "ipython",
    "version": 3
   },
   "file_extension": ".py",
   "mimetype": "text/x-python",
   "name": "python",
   "nbconvert_exporter": "python",
   "pygments_lexer": "ipython3",
   "version": "3.6.5"
  }
 },
 "nbformat": 4,
 "nbformat_minor": 2
}
