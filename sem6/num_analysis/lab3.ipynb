{
 "cells": [
  {
   "cell_type": "markdown",
   "metadata": {},
   "source": [
    "# Finite Difference Heat Equation\n",
    "\n",
    "The heat equation is a parabolic partial differential equation that describes the distribution of heat (or variation in temperature) in a given region over time."
   ]
  },
  {
   "cell_type": "code",
   "execution_count": 1,
   "metadata": {
    "collapsed": true
   },
   "outputs": [],
   "source": [
    "import numpy as np\n",
    "import matplotlib.pyplot as plt\n",
    "from ipywidgets import *\n",
    "import pylab as pl\n",
    "from IPython import display\n",
    "# import scipy as sc # needed for Alternative way of CN meth\n",
    "# import scipy.sparse as sparse\n",
    "# import scipy.sparse.linalg"
   ]
  },
  {
   "cell_type": "markdown",
   "metadata": {},
   "source": [
    "\n",
    "### Heat system\n",
    "\n",
    "$\\begin{cases} \\frac{du}{dt} = k\\frac{d^{2}u}{dx^{2}}+f(x,t) \\\\ u(0, x) = g(x) \\\\ u(t, 0) = u_0(t) \\\\ u(t, 1) = u_1(t) \\end{cases}$\n",
    "\n",
    "where $x\\in (0, 1), t \\in [0, T]$\n",
    "\n",
    "$u(t, x)-?$"
   ]
  },
  {
   "cell_type": "markdown",
   "metadata": {},
   "source": [
    "#### Initial parameters:"
   ]
  },
  {
   "cell_type": "code",
   "execution_count": 2,
   "metadata": {
    "collapsed": true
   },
   "outputs": [],
   "source": [
    "N, M, T = 100, 100, 5\n",
    "h = 1/(N-1)\n",
    "tau = T/(M-1)\n",
    "x = np.linspace(0, 1, N)\n",
    "t = np.linspace(0, T, M)\n",
    "g = 5*np.sin(np.pi*x)\n",
    "k = 1 # thermal conductivity\n",
    "u0 = np.zeros_like(t)\n",
    "u1 = 0.8*t\n",
    "xv, tv = np.meshgrid(x, t, sparse=True)\n",
    "f = 2*xv - tv\n"
   ]
  },
  {
   "cell_type": "markdown",
   "metadata": {},
   "source": [
    "### Thomas algorithm\n",
    "Through the solving we will obtain tiagonal matrix which could be easily determined by using Thomas algorithm\n",
    "refer to http://en.wikipedia.org/wiki/Tridiagonal_matrix_algorithm\n",
    "\n",
    "so"
   ]
  },
  {
   "cell_type": "code",
   "execution_count": 3,
   "metadata": {
    "collapsed": true
   },
   "outputs": [],
   "source": [
    "def TDMAsolver(a, b, c, d):\n",
    "    nf = len(d) # number of equations\n",
    "    ac, bc, cc, dc = map(np.array, (a, b, c, d)) # copy arrays\n",
    "    for it in range(1, nf):\n",
    "        mc = ac[it-1]/bc[it-1]\n",
    "        bc[it] = bc[it] - mc*cc[it-1] \n",
    "        dc[it] = dc[it] - mc*dc[it-1]\n",
    "    xc = bc\n",
    "    xc[-1] = dc[-1]/bc[-1]\n",
    "\n",
    "    for il in range(nf-2, -1, -1):\n",
    "        xc[il] = (dc[il]-cc[il]*xc[il+1])/bc[il]\n",
    "\n",
    "    return xc"
   ]
  },
  {
   "cell_type": "markdown",
   "metadata": {},
   "source": [
    "### Implicit scheme for heat equation\n",
    "\n",
    "$\\frac{u_i^{j+1}-u_i^j}{\\tau}=k\\frac{u_{i+1}^{j+1}-2u_i^{j+1}+u_{i-1}^{j+1}}{h^2}+f(t_j, x_i)$\n",
    "\n",
    "to сanonical form \n",
    "\n",
    "$A_iu_{i-1}-B_iu_i+C_iu_{i+1}=D_i$\n",
    "\n",
    "Source: http://www.polybook.ru/comma/6.4.pdf"
   ]
  },
  {
   "cell_type": "code",
   "execution_count": 4,
   "metadata": {
    "collapsed": true
   },
   "outputs": [],
   "source": [
    "def impl_scheme(h, tau, g, k, u0, u1, f):\n",
    "    M = u0.size\n",
    "    N = g.size\n",
    "    u = np.empty((M, N))\n",
    "    u[0, :] = g\n",
    "    u[:, 0] = u0\n",
    "    u[:, N - 1] = u1\n",
    "    for j in range(1, M):\n",
    "        a = np.ones(N - 2) * k/h**2\n",
    "        a[0] = 0\n",
    "        b = np.ones(N - 2) * -(1/tau + 2*k/h**2)\n",
    "        c = np.ones(N - 2) * k/h**2\n",
    "        c[-1] = 0\n",
    "        d = -u[j - 1, 1:-1]/tau - f[j, 1:-1]\n",
    "        d[0] = d[0] - k * u0[j]/h**2\n",
    "        d[-1] = d[-1] - k * u1[j]/h**2\n",
    "        u[j, 1:-1] = TDMAsolver(a, b, c, d)\n",
    "    return u"
   ]
  },
  {
   "cell_type": "markdown",
   "metadata": {},
   "source": [
    "### Crank–Nicolson method\n",
    "\n",
    "$\\frac{u_i^{j+1}-u_i^j}{\\tau}=\\frac{k}{2h^2}((u_{i+1}^{j+1}-2u_i^{j+1}+u_{i-1}^{j+1})+(u_{i+1}^{j}-2u_i^{j}+u_{i-1}^{j})) +f(t_j, x_i)$\n",
    "\n",
    "which is the same to\n",
    "\n",
    "$A_iu_{i-1}+B_iu_i+C_iu_{i+1}=D_i$,\n",
    "\n",
    "where $A_i = C_i = -\\frac{k}{2h^2}$, $B_i = \\frac{1}{\\tau}+\\frac{k}{h^2}$, $D_i = -A_iu_{i-1}^j+(\\frac{1}{h}+A_i+C_i)u_i^j-C_iu_{i+1}^j +f(t_j, x_i)$\n",
    "\n",
    "After that determine triagonal matrix by using TDMAsolver\n",
    "\n",
    "Sorce: http://web.cecs.pdx.edu/~gerry/class/ME448/notes/pdf/CN_slides.pdf\n",
    "\n",
    "#### Alternative way\n",
    "\n",
    "According to http://jkwiens.com/2010/01/02/finite-difference-heat-equation-using-numpy/ the other way to determine $u_{i+1}$ is\n",
    "\n",
    "$(I - \\frac{\\tau}{2}A)\\overline{U_{i+1}} = (I + \\frac{\\tau}{2}A)\\overline{U_i}$,\n",
    "\n",
    "where $A$ is multiplication of $\\frac{k}{\\tau^2}$ and $(1,-2,1)$-triagonal matrix, $I$ - indentity one\n"
   ]
  },
  {
   "cell_type": "code",
   "execution_count": 5,
   "metadata": {
    "collapsed": true
   },
   "outputs": [],
   "source": [
    "# but I will try\n",
    "def crank_nicolson_meth(h, tau, g, k, u0, u1, f):\n",
    "    M = u0.size\n",
    "    N = g.size\n",
    "    u = np.empty((M, N))\n",
    "    u[0, :] = g\n",
    "    u[:, 0] = u0\n",
    "    u[:, N - 1] = u1\n",
    "\n",
    "    ''' Alternative way\n",
    "    # Second-Derivative Matrix\n",
    "    data = np.ones((3, N))\n",
    "    data[1] = -2 * data[1]\n",
    "    diags = [-1, 0, 1]\n",
    "    D2 = k * sparse.spdiags(data, diags, N, N) / (h**2)\n",
    "\n",
    "    # Identity Matrix\n",
    "    I = sparse.identity(N)\n",
    "\n",
    "    for j in range(1, M):\n",
    "        # Solving the System\n",
    "        # (I - tau/2 * D2) * u_new = (I + tau/2 * D2) * u_old\n",
    "        A = (I - tau/2 * D2)\n",
    "        b = (I + tau/2 * D2) * u[j-1]\n",
    "        u[j] = sparse.linalg.spsolve(A,  b)\n",
    "    '''\n",
    "    \n",
    "    for j in range(1, M):\n",
    "        a = np.ones(N - 2) * -k/(2*h**2)\n",
    "        a[0] = 0\n",
    "        b = np.ones(N - 2) * (1/tau + k/h**2)\n",
    "        c = np.ones(N - 2) * -k/(2*h**2)\n",
    "        c[-1] = 0\n",
    "        \n",
    "        d = -a * u[j-1, 1:-1] + (1/tau + a + c) * u[j-1, 1:-1] - c * u[j-1, 1:-1] + f[j, 1:-1]\n",
    "        d[0] = d[0] + k * u0[j]/h**2\n",
    "        d[-1] = d[-1] + k * u1[j]/h**2\n",
    "        \n",
    "        u[j, 1:-1] = TDMAsolver(a, b, c, d)\n",
    "    \n",
    "    return u"
   ]
  },
  {
   "cell_type": "code",
   "execution_count": 6,
   "metadata": {},
   "outputs": [
    {
     "data": {
      "application/vnd.jupyter.widget-view+json": {
       "model_id": "cfbed4c289624e329edf01eb5f69803b"
      }
     },
     "metadata": {},
     "output_type": "display_data"
    },
    {
     "data": {
      "text/plain": [
       "<function __main__.take_step>"
      ]
     },
     "execution_count": 6,
     "metadata": {},
     "output_type": "execute_result"
    }
   ],
   "source": [
    "def take_step(iteration):\n",
    "#     print(num)\n",
    "#     plot1.plot(x, u_imp[num])\n",
    "#     plt.show()\n",
    "    pl.rcParams['figure.figsize'] = 10, 7\n",
    "    pl.xlabel('x', fontsize=24, color='blue')\n",
    "    pl.ylabel('t°', fontsize=24, color='red')\n",
    "    pl.xlim([0,1])\n",
    "    pl.ylim([0,12])\n",
    "    pl.plot(x, u[iteration])\n",
    "    display.clear_output(wait=False)\n",
    "    display.display(pl.gcf())\n",
    "    plt.clf()\n",
    "\n",
    "\n",
    "u = impl_scheme(h, tau, g, k, u0, u1, f)\n",
    "# u = crank_nicolson_meth(h, tau, g, k, u0, u1, f)\n",
    "\n",
    "interact(take_step, iteration=widgets.IntSlider(min=0,max=99,step=1,value=0)) # won't showing properly on GitHub"
   ]
  }
 ],
 "metadata": {
  "kernelspec": {
   "display_name": "Python 3",
   "language": "python",
   "name": "python3"
  },
  "language_info": {
   "codemirror_mode": {
    "name": "ipython",
    "version": 3
   },
   "file_extension": ".py",
   "mimetype": "text/x-python",
   "name": "python",
   "nbconvert_exporter": "python",
   "pygments_lexer": "ipython3",
   "version": "3.5.3"
  }
 },
 "nbformat": 4,
 "nbformat_minor": 2
}
